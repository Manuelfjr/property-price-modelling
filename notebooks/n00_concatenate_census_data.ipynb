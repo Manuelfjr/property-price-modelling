{
 "cells": [
  {
   "cell_type": "markdown",
   "id": "4fcb7414",
   "metadata": {},
   "source": [
    "## Imports"
   ]
  },
  {
   "cell_type": "code",
   "execution_count": 21,
   "id": "45641a10",
   "metadata": {},
   "outputs": [],
   "source": [
    "import sys\n",
    "from pathlib import Path\n",
    "PROJECT_DIR = Path.cwd().parent\n",
    "sys.path.append(str(PROJECT_DIR))\n",
    "\n",
    "# basics\n",
    "import pandas as pd\n",
    "import geopandas as gpd\n",
    "\n",
    "# utils\n",
    "import os\n",
    "from ppm.utils.readers import (\n",
    "    reader,\n",
    "    unzip_file\n",
    ")"
   ]
  },
  {
   "cell_type": "markdown",
   "id": "91c77591",
   "metadata": {},
   "source": [
    "## Parameters"
   ]
  },
  {
   "cell_type": "code",
   "execution_count": 37,
   "id": "f3d6504a",
   "metadata": {},
   "outputs": [],
   "source": [
    "uf = 'PB'\n",
    "path_root_data = os.path.join(\n",
    "    '..', 'data', # data or oos\n",
    ")\n",
    "path_raw = os.path.join(\n",
    "    path_root_data, '01_raw'\n",
    ")\n",
    "path_intermediate = os.path.join(\n",
    "    path_root_data, '02_intermediate'\n",
    ")\n",
    "path_census_data = os.path.join(\n",
    "    path_raw, f'{uf}_20171016'\n",
    ")\n",
    "path_census_data_csv = os.path.join(\n",
    "    path_census_data,\n",
    "    f'{uf}',\n",
    "    f'Base informaçoes setores2010 universo {uf}',\n",
    "    'CSV'\n",
    ")\n",
    "\n",
    "file_path_data_shp = os.path.join(\n",
    "    path_raw, \n",
    "    f'{uf}_Setores_2021',\n",
    "    f'{uf}_Setores_2021.shp'\n",
    ")\n",
    "file_path_shp_processed = os.path.join(\n",
    "    path_intermediate, \"data_shp_processed\"\n",
    ")\n",
    "file_path_census_processed = os.path.join(\n",
    "    path_intermediate, \"data_census_processed.csv\"\n",
    ")"
   ]
  },
  {
   "cell_type": "markdown",
   "id": "eab8dae6",
   "metadata": {},
   "source": [
    "## Read data"
   ]
  },
  {
   "cell_type": "code",
   "execution_count": 23,
   "id": "960fe9b6",
   "metadata": {},
   "outputs": [],
   "source": [
    "# unzip\n",
    "if not os.path.exists(path_census_data):\n",
    "    unzip_file(\n",
    "        path_census_data+'.zip',\n",
    "        path_census_data\n",
    "    )\n",
    "\n",
    "file_path_census_data = {\n",
    "    i.split(\".\")[0]: os.path.join(path_census_data_csv, i)for i in os.listdir(path_census_data_csv) \n",
    "}"
   ]
  },
  {
   "cell_type": "code",
   "execution_count": 24,
   "id": "31934ef4",
   "metadata": {},
   "outputs": [],
   "source": [
    "data_census = {\n",
    "    i: reader(url) for i, url in file_path_census_data.items()\n",
    "}"
   ]
  },
  {
   "cell_type": "code",
   "execution_count": 25,
   "id": "ff8411e1",
   "metadata": {},
   "outputs": [],
   "source": [
    "data_shp = gpd.read_file(file_path_data_shp)\n",
    "data_shp.columns = data_shp.columns.str.lower()"
   ]
  },
  {
   "cell_type": "markdown",
   "id": "ead16de9",
   "metadata": {},
   "source": [
    "## Concatenate census data"
   ]
  },
  {
   "cell_type": "code",
   "execution_count": 26,
   "id": "4ca90964",
   "metadata": {},
   "outputs": [],
   "source": [
    "for idx, (name, content) in enumerate(data_census.items()):\n",
    "    if idx == 0:\n",
    "        data_census_merged = content.copy()\n",
    "        data_census_merged.columns = data_census_merged.columns.str.lower()\n",
    "        data_census_merged.columns = [\"cod_setor\"]+[\n",
    "            '{}_{}'.format(i, name) for i in data_census_merged.columns[1:]\n",
    "        ]\n",
    "    else:\n",
    "        content.columns = content.columns.str.lower()\n",
    "        content.columns = [\"cod_setor\"]+[\n",
    "            '{}_{}'.format(i, name) for i in content.columns[1:]\n",
    "        ]\n",
    "        data_census_merged = data_census_merged.merge(\n",
    "            content,\n",
    "            on = [\"cod_setor\"],\n",
    "            suffixes = (\n",
    "                \"_{}\".format(name).lower(),\n",
    "                \"_{}\".format(name).lower()\n",
    "            )\n",
    "        )\n",
    "        data_census_merged.columns = data_census_merged.columns.str.lower()\n",
    "data_census_merged.columns = data_census_merged.columns.str.lower()"
   ]
  },
  {
   "cell_type": "code",
   "execution_count": 27,
   "id": "99b58e43",
   "metadata": {},
   "outputs": [],
   "source": [
    "data_census_merged.drop(\n",
    "    data_census_merged.columns[data_census_merged.columns.str.contains('unnamed')],\n",
    "    axis = 1, inplace = True\n",
    ")\n",
    "data_census_merged = data_census_merged.loc[:, ~data_census_merged.columns.duplicated()]\n",
    "data_census_merged.rename(\n",
    "        columns = {\n",
    "            \"cod_setor\": \"cd_setor\"\n",
    "        }, inplace = True\n",
    ")"
   ]
  },
  {
   "cell_type": "markdown",
   "id": "96e2900a",
   "metadata": {},
   "source": [
    "## Filter data"
   ]
  },
  {
   "cell_type": "code",
   "execution_count": 28,
   "id": "08dda2b0",
   "metadata": {},
   "outputs": [],
   "source": [
    "# filter_joao_pessoa\n",
    "data_census_merged = data_census_merged[\n",
    "    data_census_merged.cd_setor.astype(\n",
    "        str\n",
    "    ).str.contains(\n",
    "        '2507507'\n",
    "    )\n",
    "].copy()"
   ]
  },
  {
   "cell_type": "code",
   "execution_count": 29,
   "id": "fae2548f",
   "metadata": {},
   "outputs": [],
   "source": [
    "# filter_joao_pessoa\n",
    "data_shp = data_shp[\n",
    "    data_shp.cd_setor.astype(\n",
    "        str\n",
    "    ).str.contains(\n",
    "        '2507507'\n",
    "    )\n",
    "].copy()\n",
    "data_shp.rename(\n",
    "    columns = {\n",
    "        \"cod_setor\": \"cd_setor\"\n",
    "    }, inplace = True\n",
    ")"
   ]
  },
  {
   "cell_type": "markdown",
   "id": "6b529977",
   "metadata": {},
   "source": [
    "## Save data"
   ]
  },
  {
   "cell_type": "code",
   "execution_count": 38,
   "id": "f0beb36d",
   "metadata": {},
   "outputs": [],
   "source": [
    "data_census_merged.to_csv(\n",
    "    file_path_census_processed,\n",
    "    index = False\n",
    ")"
   ]
  },
  {
   "cell_type": "code",
   "execution_count": 39,
   "id": "70b8b7e8",
   "metadata": {},
   "outputs": [],
   "source": [
    "data_shp.to_file(\n",
    "    file_path_shp_processed,\n",
    "    driver = 'GPKG'\n",
    ")"
   ]
  }
 ],
 "metadata": {
  "kernelspec": {
   "display_name": "Python 3 (ipykernel)",
   "language": "python",
   "name": "python3"
  },
  "language_info": {
   "codemirror_mode": {
    "name": "ipython",
    "version": 3
   },
   "file_extension": ".py",
   "mimetype": "text/x-python",
   "name": "python",
   "nbconvert_exporter": "python",
   "pygments_lexer": "ipython3",
   "version": "3.10.6"
  }
 },
 "nbformat": 4,
 "nbformat_minor": 5
}
