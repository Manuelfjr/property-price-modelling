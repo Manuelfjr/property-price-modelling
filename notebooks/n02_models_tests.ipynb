{
 "cells": [
  {
   "cell_type": "markdown",
   "id": "e329d0e6",
   "metadata": {},
   "source": [
    "# Imports"
   ]
  },
  {
   "cell_type": "code",
   "execution_count": null,
   "id": "e646cb20",
   "metadata": {},
   "outputs": [],
   "source": [
    "import sys\n",
    "from pathlib import Path\n",
    "PROJECT_DIR = Path.cwd().parent\n",
    "sys.path.append(str(PROJECT_DIR))\n",
    "\n",
    "# basics\n",
    "import pandas as pd\n",
    "import json\n",
    "\n",
    "# feature_importance\n",
    "import shap\n",
    "\n",
    "# viz\n",
    "import matplotlib.pyplot as plt\n",
    "\n",
    "# models\n",
    "from sklearn.ensemble import RandomForestRegressor\n",
    "from sklearn.model_selection import train_test_split\n",
    "\n",
    "# utils\n",
    "import os\n",
    "from ppm.nodes.feature_explainer import (\n",
    "    shap_explainer,\n",
    "    tree_explainer\n",
    ")\n",
    "from ppm.nodes.metrics_calculator import (\n",
    "    metrics_calculate,\n",
    "    show_results\n",
    ")\n",
    "from ppm.nodes.plots import (\n",
    "    scatterplot_yx,\n",
    "    distribution_plot\n",
    ")\n",
    "from ppm.nodes.process_outputs import (\n",
    "    ranking_output\n",
    ")"
   ]
  },
  {
   "cell_type": "markdown",
   "id": "0cb98437",
   "metadata": {},
   "source": [
    "# Parameters"
   ]
  },
  {
   "cell_type": "code",
   "execution_count": null,
   "id": "d489d0fe",
   "metadata": {},
   "outputs": [],
   "source": [
    "path_root = os.path.join(\"..\",\"data\")\n",
    "\n",
    "path_primary = os.path.join(\n",
    "    path_root, \"03_primary\"\n",
    ")\n",
    "\n",
    "file_path_input_data = os.path.join(\n",
    "    path_primary, \"data_input.csv\"\n",
    ")\n",
    "\n",
    "file_path_metrics_features_test = os.path.join(\n",
    "    path_primary, \"features_test_metrics.json\"\n",
    ")\n",
    "file_path_metrics_features_selected = os.path.join(\n",
    "    path_primary, \"features_selected.json\"\n",
    ")"
   ]
  },
  {
   "cell_type": "code",
   "execution_count": null,
   "id": "11119cd8",
   "metadata": {},
   "outputs": [],
   "source": [
    "number_of_features = 100"
   ]
  },
  {
   "cell_type": "markdown",
   "id": "c94d3a23",
   "metadata": {},
   "source": [
    "# Read dataset"
   ]
  },
  {
   "cell_type": "code",
   "execution_count": null,
   "id": "35fe9068",
   "metadata": {},
   "outputs": [],
   "source": [
    "data_input = pd.read_csv(\n",
    "    file_path_input_data,\n",
    "    index_col = 0\n",
    ")"
   ]
  },
  {
   "cell_type": "markdown",
   "id": "e4a05760",
   "metadata": {},
   "source": [
    "# Shap process"
   ]
  },
  {
   "cell_type": "code",
   "execution_count": null,
   "id": "62db3d63",
   "metadata": {},
   "outputs": [],
   "source": [
    "target = [\n",
    "    \"price\"\n",
    "]\n",
    "cols_to_drop = [\n",
    "    \"cd_setor\",\n",
    "    \"ID\"\n",
    "] + target"
   ]
  },
  {
   "cell_type": "code",
   "execution_count": null,
   "id": "13c7d5e4",
   "metadata": {
    "scrolled": true
   },
   "outputs": [],
   "source": [
    "try:\n",
    "    X = data_input.drop(cols_to_drop, axis=1)[features_selected]\n",
    "except:\n",
    "    X = data_input.drop(cols_to_drop, axis=1)\n",
    "\n",
    "y = data_input[target[0]]\n",
    "\n",
    "random_state = 42\n",
    "X_train, X_test, y_train, y_test = train_test_split(X,\n",
    "                                                    y, \n",
    "                                                    test_size = 0.2,\n",
    "                                                    random_state = random_state)\n",
    "\n",
    "rf_model = RandomForestRegressor()\n",
    "rf_model.fit(X_train, y_train)"
   ]
  },
  {
   "cell_type": "code",
   "execution_count": null,
   "id": "a7982ef9",
   "metadata": {
    "scrolled": true
   },
   "outputs": [],
   "source": [
    "shap_explainer(rf_model, X_test)"
   ]
  },
  {
   "cell_type": "code",
   "execution_count": null,
   "id": "6380015b",
   "metadata": {},
   "outputs": [],
   "source": [
    "args_train = [\n",
    "    y_train.values,\n",
    "    rf_model.predict(X_train)\n",
    "]\n",
    "args_preds = [\n",
    "    y_test.values,\n",
    "    rf_model.predict(X_test)\n",
    "]\n",
    "metrics_train = metrics_calculate(args_train)\n",
    "metrics_pred = metrics_calculate(args_preds)"
   ]
  },
  {
   "cell_type": "code",
   "execution_count": null,
   "id": "650c11ab",
   "metadata": {},
   "outputs": [],
   "source": [
    "metrics_train = show_results(metrics_train, \"train\")\n",
    "metrics_test = show_results(metrics_pred, \"test\")\n",
    "metrics_results = metrics_train|metrics_test"
   ]
  },
  {
   "cell_type": "code",
   "execution_count": null,
   "id": "5e871c28",
   "metadata": {},
   "outputs": [],
   "source": [
    "fig_scatter_xy = scatterplot_yx(args_train, \n",
    "               args_preds, \n",
    "               {\n",
    "                   \"nrows\": 1,\n",
    "                   \"ncols\": 2,\n",
    "                   \"figsize\": (20,8)\n",
    "               })"
   ]
  },
  {
   "cell_type": "code",
   "execution_count": null,
   "id": "8bf261b4",
   "metadata": {},
   "outputs": [],
   "source": [
    "data_preds = ranking_output(args_preds)\n",
    "data_train = ranking_output(args_train)"
   ]
  },
  {
   "cell_type": "code",
   "execution_count": null,
   "id": "539b1cce",
   "metadata": {},
   "outputs": [],
   "source": [
    "data_preds.filter(regex='rank*', axis=1).corr()"
   ]
  },
  {
   "cell_type": "code",
   "execution_count": null,
   "id": "0a1ca754",
   "metadata": {},
   "outputs": [],
   "source": [
    "features_importance, features_selected = tree_explainer(\n",
    "    [rf_model],\n",
    "    list(X.columns),\n",
    "    number_of_features\n",
    ")"
   ]
  },
  {
   "cell_type": "code",
   "execution_count": null,
   "id": "278968d2",
   "metadata": {},
   "outputs": [],
   "source": [
    "dist_plot_xy = distribution_plot(\n",
    "    data_preds,\n",
    "    {\"figsize\": (12,8)}\n",
    ")"
   ]
  },
  {
   "cell_type": "markdown",
   "id": "36921a94",
   "metadata": {},
   "source": [
    "## Test cutoff of features"
   ]
  },
  {
   "cell_type": "code",
   "execution_count": null,
   "id": "031818a9",
   "metadata": {},
   "outputs": [],
   "source": [
    "if os.path.exists(file_path_metrics_features_selected):\n",
    "    with open(file_path_metrics_features_selected, 'r') as json_file:\n",
    "        features_selected = json.load(json_file)\n",
    "if os.path.exists(file_path_metrics_features_test):\n",
    "    with open(file_path_metrics_features_test, 'r') as json_file:\n",
    "        metrics_all = json.load(json_file)"
   ]
  },
  {
   "cell_type": "code",
   "execution_count": null,
   "id": "3271db29",
   "metadata": {
    "scrolled": true
   },
   "outputs": [],
   "source": [
    "type_of = \"test\"\n",
    "chaves_internas = ['r2', 'mape', 'mae', 'median_ae','rmse','mse']\n",
    "if type_of ==\"train\":\n",
    "    chaves_internas += [\"mse\"] \n",
    "\n",
    "num_rows = 3\n",
    "num_cols = 2\n",
    "\n",
    "fig, axes = plt.subplots(num_rows, num_cols, figsize=(18+num_rows, 9*num_cols))\n",
    "\n",
    "for i, chave_interna in enumerate(chaves_internas):\n",
    "    valores = [metrics_all[chave][type_of][chave_interna] for chave in metrics_all.keys()]\n",
    "\n",
    "    row_idx = i // num_cols\n",
    "    col_idx = i % num_cols\n",
    "    ax = axes[row_idx, col_idx]\n",
    "    \n",
    "    ax.bar(metrics_all.keys(), valores)\n",
    "    ax.set_xlabel('Chave')\n",
    "    ax.set_ylabel(chave_interna.upper())\n",
    "    ax.set_title(f'{chave_interna.upper()} por Chave')\n",
    "\n",
    "    for j, valor in enumerate(valores):\n",
    "        if chave_interna in ['r2', 'mape']:\n",
    "            ax.text(j, valor, str(round(valor, 5)), ha='center', va='bottom')\n",
    "        else:\n",
    "            ax.text(j, valor, str(round(valor, 2)), ha='center', va='bottom')\n",
    "\n",
    "plt.tight_layout()\n",
    "\n",
    "plt.show()"
   ]
  }
 ],
 "metadata": {
  "kernelspec": {
   "display_name": "Python 3 (ipykernel)",
   "language": "python",
   "name": "python3"
  },
  "language_info": {
   "codemirror_mode": {
    "name": "ipython",
    "version": 3
   },
   "file_extension": ".py",
   "mimetype": "text/x-python",
   "name": "python",
   "nbconvert_exporter": "python",
   "pygments_lexer": "ipython3",
   "version": "3.10.6"
  }
 },
 "nbformat": 4,
 "nbformat_minor": 5
}
