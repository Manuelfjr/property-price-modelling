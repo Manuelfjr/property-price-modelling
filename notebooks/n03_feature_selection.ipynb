{
 "cells": [
  {
   "cell_type": "markdown",
   "id": "f6358865",
   "metadata": {},
   "source": [
    "## Imports"
   ]
  },
  {
   "cell_type": "code",
   "execution_count": null,
   "id": "2b953322",
   "metadata": {},
   "outputs": [],
   "source": [
    "import sys\n",
    "from pathlib import Path\n",
    "PROJECT_DIR = Path.cwd().parent\n",
    "sys.path.append(str(PROJECT_DIR))\n",
    "\n",
    "# basics\n",
    "import pandas as pd\n",
    "import numpy as np\n",
    "from tqdm import tqdm\n",
    "import json\n",
    "\n",
    "# viz\n",
    "import matplotlib.pyplot as plt\n",
    "\n",
    "# models\n",
    "from sklearn.ensemble import RandomForestRegressor\n",
    "from sklearn.model_selection import train_test_split\n",
    "\n",
    "# utils\n",
    "import os\n",
    "from ppm.nodes.feature_explainer import (\n",
    "    shap_explainer\n",
    ")"
   ]
  },
  {
   "cell_type": "code",
   "execution_count": null,
   "id": "0a992a14",
   "metadata": {},
   "outputs": [],
   "source": [
    "k_features = 500"
   ]
  },
  {
   "cell_type": "markdown",
   "id": "4e81d127",
   "metadata": {},
   "source": [
    "## Parameters"
   ]
  },
  {
   "cell_type": "code",
   "execution_count": null,
   "id": "1b11ad93",
   "metadata": {},
   "outputs": [],
   "source": [
    "path_root = os.path.join(\n",
    "    \"..\", \"data\"\n",
    ")\n",
    "\n",
    "path_primary = os.path.join(\n",
    "    path_root, \"03_primary\"\n",
    ")\n",
    "file_path_metrics_features_selected = os.path.join(\n",
    "    path_primary, \"features_selected.json\"\n",
    ")\n",
    "file_path_not_outliers = os.path.join(\n",
    "    path_primary, \"data_not_outliers.csv\"\n",
    ")\n",
    "\n",
    "data_input = pd.read_csv(\n",
    "    file_path_not_outliers, # file_path_input_data,\n",
    "    index_col = 0\n",
    ")"
   ]
  },
  {
   "cell_type": "markdown",
   "id": "ce2a90f0",
   "metadata": {},
   "source": [
    "## Read"
   ]
  },
  {
   "cell_type": "code",
   "execution_count": null,
   "id": "59dd06d1",
   "metadata": {},
   "outputs": [],
   "source": [
    "data_input = pd.read_csv(\n",
    "    file_path_not_outliers, # file_path_input_data,\n",
    "    index_col = 0\n",
    ")"
   ]
  },
  {
   "cell_type": "markdown",
   "id": "ff641736",
   "metadata": {},
   "source": [
    "## Feature selection"
   ]
  },
  {
   "cell_type": "code",
   "execution_count": null,
   "id": "677d76fa",
   "metadata": {},
   "outputs": [],
   "source": [
    "# some parameters\n",
    "\n",
    "target = [\n",
    "    \"price\"\n",
    "]\n",
    "cols_to_drop = [\n",
    "    \"cd_setor\",\n",
    "    \"ID\"\n",
    "] + target\n",
    "\n",
    "number_of_features = data_input.shape[1]-1\n",
    "random_state = 42"
   ]
  },
  {
   "cell_type": "code",
   "execution_count": null,
   "id": "ed17545d",
   "metadata": {},
   "outputs": [],
   "source": [
    "X = data_input.drop(cols_to_drop, axis = 1)\n",
    "y = data_input[target]"
   ]
  },
  {
   "cell_type": "code",
   "execution_count": null,
   "id": "d9344299",
   "metadata": {},
   "outputs": [],
   "source": [
    "X_train, X_test, y_train, y_test = train_test_split(\n",
    "    X,\n",
    "    y,\n",
    "    test_size = 0.2,\n",
    "    random_state = 42\n",
    ")"
   ]
  },
  {
   "cell_type": "markdown",
   "id": "0ae52507",
   "metadata": {},
   "source": [
    "## Modelling"
   ]
  },
  {
   "cell_type": "code",
   "execution_count": null,
   "id": "1c2521b4",
   "metadata": {},
   "outputs": [],
   "source": [
    "model = RandomForestRegressor()\n",
    "model.fit(X_train, y_train)"
   ]
  },
  {
   "cell_type": "code",
   "execution_count": null,
   "id": "b404b704",
   "metadata": {},
   "outputs": [],
   "source": [
    "fig_shap, explainer = shap_explainer(\n",
    "    [model],\n",
    "    X\n",
    ")\n",
    "shap_values = explainer.shap_values(X)"
   ]
  },
  {
   "cell_type": "markdown",
   "id": "c1b5c8fe",
   "metadata": {},
   "source": [
    "## Get best features"
   ]
  },
  {
   "cell_type": "code",
   "execution_count": null,
   "id": "dc70b130",
   "metadata": {},
   "outputs": [],
   "source": [
    "importance_scores = np.abs(shap_values).mean(axis=0)\n",
    "sorted_features = sorted(zip(X.columns, importance_scores), key=lambda x: x[1], reverse=True)\n",
    "selected_features = [f[0] for f in sorted_features[:k_features]]"
   ]
  },
  {
   "cell_type": "markdown",
   "id": "53122d67",
   "metadata": {},
   "source": [
    "## Save"
   ]
  },
  {
   "cell_type": "code",
   "execution_count": null,
   "id": "d5540153",
   "metadata": {},
   "outputs": [],
   "source": [
    "# Save selected features to a JSON file\n",
    "selected_features_dict = {\"selected_features\": selected_features}\n",
    "with open(file_path_metrics_features_selected, \"w\") as file:\n",
    "    json.dump(selected_features_dict, file)"
   ]
  }
 ],
 "metadata": {
  "kernelspec": {
   "display_name": "Python 3 (ipykernel)",
   "language": "python",
   "name": "python3"
  },
  "language_info": {
   "codemirror_mode": {
    "name": "ipython",
    "version": 3
   },
   "file_extension": ".py",
   "mimetype": "text/x-python",
   "name": "python",
   "nbconvert_exporter": "python",
   "pygments_lexer": "ipython3",
   "version": "3.10.6"
  }
 },
 "nbformat": 4,
 "nbformat_minor": 5
}
