{
 "cells": [
  {
   "cell_type": "markdown",
   "id": "493e8347",
   "metadata": {},
   "source": [
    "## Imports"
   ]
  },
  {
   "cell_type": "code",
   "execution_count": null,
   "id": "b16bf671",
   "metadata": {},
   "outputs": [],
   "source": [
    "import sys\n",
    "from pathlib import Path\n",
    "PROJECT_DIR = Path.cwd().parent\n",
    "sys.path.append(str(PROJECT_DIR))\n",
    "\n",
    "# basics\n",
    "import pandas as pd\n",
    "\n",
    "# utils\n",
    "import os\n",
    "from pyod import models\n",
    "from ppm.nodes.plots import (\n",
    "    plot_outliers_histogram\n",
    ")\n",
    "from ppm.nodes.outliers_detection import (\n",
    "    detect_outliers\n",
    ")"
   ]
  },
  {
   "cell_type": "markdown",
   "id": "4c3f7cde",
   "metadata": {},
   "source": [
    "## Parameters"
   ]
  },
  {
   "cell_type": "code",
   "execution_count": null,
   "id": "f0e25331",
   "metadata": {},
   "outputs": [],
   "source": [
    "target = \"price\"\n",
    "\n",
    "path_root = os.path.join(\n",
    "    \"..\",\n",
    "    \"data\"\n",
    ")\n",
    "path_primary = os.path.join(\n",
    "    path_root, \"03_primary\"\n",
    ")\n",
    "path_model = os.path.join(\n",
    "    path_root, \"04_model\"\n",
    ")\n",
    "\n",
    "file_path_input_data = os.path.join(\n",
    "    path_primary, \"data_input.csv\"\n",
    ")\n",
    "file_path_not_outliers = os.path.join(\n",
    "    path_primary, \"data_not_outliers.csv\"\n",
    ")"
   ]
  },
  {
   "cell_type": "markdown",
   "id": "46ec9552",
   "metadata": {},
   "source": [
    "## Read dataset"
   ]
  },
  {
   "cell_type": "code",
   "execution_count": null,
   "id": "283ffbc5",
   "metadata": {},
   "outputs": [],
   "source": [
    "data_input = pd.read_csv(\n",
    "    file_path_input_data,\n",
    "    index_col = 0\n",
    ")"
   ]
  },
  {
   "cell_type": "markdown",
   "id": "1684232e",
   "metadata": {},
   "source": [
    "## Outlier vizualiation"
   ]
  },
  {
   "cell_type": "code",
   "execution_count": null,
   "id": "887103d6",
   "metadata": {},
   "outputs": [],
   "source": [
    "lower_limit, upper_limit = detect_outliers(data_input[target].values, p = 25)"
   ]
  },
  {
   "cell_type": "code",
   "execution_count": null,
   "id": "b8925a35",
   "metadata": {},
   "outputs": [],
   "source": [
    "plot_outliers = plot_outliers_histogram(data_input, target, lower_limit, upper_limit)"
   ]
  },
  {
   "cell_type": "code",
   "execution_count": null,
   "id": "09ba6a7b",
   "metadata": {},
   "outputs": [],
   "source": [
    "data_not_outliers = data_input[\n",
    "    (data_input[target] >= lower_limit)&(data_input[target] <= upper_limit)\n",
    "].reset_index(drop = True)"
   ]
  },
  {
   "cell_type": "markdown",
   "id": "5404b12c",
   "metadata": {},
   "source": [
    "## Not outliers"
   ]
  },
  {
   "cell_type": "code",
   "execution_count": null,
   "id": "cc6698fa",
   "metadata": {},
   "outputs": [],
   "source": [
    "plot_not_outliers = plot_outliers_histogram(data_not_outliers, target, lower_limit, upper_limit)"
   ]
  },
  {
   "cell_type": "markdown",
   "id": "b6ecde79",
   "metadata": {},
   "source": [
    "## Save not outliers"
   ]
  },
  {
   "cell_type": "code",
   "execution_count": null,
   "id": "64bf56ba",
   "metadata": {},
   "outputs": [],
   "source": [
    "data_not_outliers.to_csv(file_path_not_outliers)"
   ]
  }
 ],
 "metadata": {
  "kernelspec": {
   "display_name": "Python 3 (ipykernel)",
   "language": "python",
   "name": "python3"
  },
  "language_info": {
   "codemirror_mode": {
    "name": "ipython",
    "version": 3
   },
   "file_extension": ".py",
   "mimetype": "text/x-python",
   "name": "python",
   "nbconvert_exporter": "python",
   "pygments_lexer": "ipython3",
   "version": "3.10.6"
  }
 },
 "nbformat": 4,
 "nbformat_minor": 5
}
