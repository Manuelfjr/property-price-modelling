{
 "cells": [
  {
   "cell_type": "markdown",
   "id": "493e8347",
   "metadata": {},
   "source": [
    "## Imports"
   ]
  },
  {
   "cell_type": "code",
   "execution_count": null,
   "id": "b16bf671",
   "metadata": {},
   "outputs": [],
   "source": [
    "# basics\n",
    "import pandas as pd\n",
    "import numpy as np\n",
    "\n",
    "# feature_importance\n",
    "import shap\n",
    "\n",
    "# viz\n",
    "import matplotlib.pyplot as plt\n",
    "\n",
    "# utils\n",
    "import os"
   ]
  },
  {
   "cell_type": "markdown",
   "id": "4c3f7cde",
   "metadata": {},
   "source": [
    "## Parameters"
   ]
  },
  {
   "cell_type": "code",
   "execution_count": null,
   "id": "f0e25331",
   "metadata": {},
   "outputs": [],
   "source": [
    "target = \"price\"\n",
    "\n",
    "path_root = os.path.join(\n",
    "    \"..\",\n",
    "    \"data\"\n",
    ")\n",
    "path_primary = os.path.join(\n",
    "    path_root, \"03_primary\"\n",
    ")\n",
    "path_model = os.path.join(\n",
    "    path_root, \"04_model\"\n",
    ")\n",
    "\n",
    "file_path_input_data = os.path.join(\n",
    "    path_primary, \"data_input.csv\"\n",
    ")\n",
    "file_path_not_outliers = os.path.join(\n",
    "    path_primary, \"data_not_outliers.csv\"\n",
    ")"
   ]
  },
  {
   "cell_type": "markdown",
   "id": "ff46b20d",
   "metadata": {},
   "source": [
    "## Methods"
   ]
  },
  {
   "cell_type": "code",
   "execution_count": null,
   "id": "fcf275ea",
   "metadata": {},
   "outputs": [],
   "source": [
    "def detect_outliers(data, p):\n",
    "    q1 = np.percentile(data, p)\n",
    "    q3 = np.percentile(data, 100 - p)\n",
    "    iqr = q3 - q1\n",
    "    lower_limit = q1 - 1.5 * iqr\n",
    "    upper_limit = q3 + 1.5 * iqr\n",
    "    return lower_limit,upper_limit"
   ]
  },
  {
   "cell_type": "markdown",
   "id": "46ec9552",
   "metadata": {},
   "source": [
    "## Read dataset"
   ]
  },
  {
   "cell_type": "code",
   "execution_count": null,
   "id": "283ffbc5",
   "metadata": {},
   "outputs": [],
   "source": [
    "data_input = pd.read_csv(\n",
    "    file_path_input_data,\n",
    "    index_col = 0\n",
    ")"
   ]
  },
  {
   "cell_type": "markdown",
   "id": "1684232e",
   "metadata": {},
   "source": [
    "## Outlier vizualiation"
   ]
  },
  {
   "cell_type": "code",
   "execution_count": null,
   "id": "887103d6",
   "metadata": {},
   "outputs": [],
   "source": [
    "lower_limit, upper_limit = detect_outliers(data_input[target].values, p = 25)"
   ]
  },
  {
   "cell_type": "code",
   "execution_count": null,
   "id": "67c1e6e0",
   "metadata": {},
   "outputs": [],
   "source": [
    "outliers = [x for x in data_input[target].values if x < lower_limit or x > upper_limit]\n",
    "non_outliers = [x for x in data_input[target].values if x >= lower_limit and x <= upper_limit]\n",
    "\n",
    "fig, axes = plt.subplots(1, 2, figsize=(16, 8))\n",
    "\n",
    "axes[0].axhline(y=lower_limit, color='red', linestyle='--')\n",
    "axes[0].axhline(y=upper_limit, color='red', linestyle='--')\n",
    "\n",
    "axes[0].plot([i for i, _ in enumerate(non_outliers)],\n",
    "             non_outliers,\n",
    "             '*')\n",
    "axes[0].plot([i for i, _ in enumerate(data_input[target].values) if data_input[target].values[i] in outliers],\n",
    "             [x for x in outliers],\n",
    "             '*',\n",
    "             color='red',\n",
    "             label=\"Outlier\")\n",
    "\n",
    "axes[1].hist(data_input[target].values)\n",
    "axes[1].grid()\n",
    "axes[0].grid()\n",
    "\n",
    "axes[1].set_title(f\"Histogram of {target}\")\n",
    "axes[0].set_title(f\"Scatter of {target} (n_outliers = {round(100*len(outliers)/data_input.shape[0],2)} %)\")\n",
    "axes[0].set_ylabel(f\"{target}\")\n",
    "axes[0].legend()\n",
    "\n",
    "plt.show()"
   ]
  },
  {
   "cell_type": "code",
   "execution_count": null,
   "id": "09ba6a7b",
   "metadata": {},
   "outputs": [],
   "source": [
    "data_not_outliers = data_input[\n",
    "    (data_input[target] >= lower_limit)&(data_input[target] <= upper_limit)\n",
    "].reset_index(drop = True)"
   ]
  },
  {
   "cell_type": "markdown",
   "id": "5404b12c",
   "metadata": {},
   "source": [
    "## Not outliers"
   ]
  },
  {
   "cell_type": "code",
   "execution_count": null,
   "id": "fa07de20",
   "metadata": {},
   "outputs": [],
   "source": [
    "outliers = [x for x in data_input[target].values if x < lower_limit or x > upper_limit]\n",
    "non_outliers = [x for x in data_not_outliers[target].values if x >= lower_limit and x <= upper_limit]\n",
    "\n",
    "fig, axes = plt.subplots(1, 2, figsize=(16, 8))\n",
    "\n",
    "axes[0].axhline(y=lower_limit, color='red', linestyle='--')\n",
    "axes[0].axhline(y=upper_limit, color='red', linestyle='--')\n",
    "\n",
    "axes[0].plot([i for i, _ in enumerate(non_outliers)],\n",
    "             non_outliers,\n",
    "             '*')\n",
    "\n",
    "axes[1].hist(data_not_outliers[target].values)\n",
    "axes[1].grid()\n",
    "axes[0].grid()\n",
    "\n",
    "axes[1].set_title(f\"Histogram of {target}\")\n",
    "axes[0].set_title(f\"Scatter of {target} (n_outliers = {round(100*len(outliers)/data_input.shape[0],2)} %)\")\n",
    "axes[0].set_ylabel(f\"{target}\")\n",
    "\n",
    "plt.show()"
   ]
  },
  {
   "cell_type": "markdown",
   "id": "b6ecde79",
   "metadata": {},
   "source": [
    "## Save not outliers"
   ]
  },
  {
   "cell_type": "code",
   "execution_count": null,
   "id": "64bf56ba",
   "metadata": {},
   "outputs": [],
   "source": [
    "data_not_outliers.to_csv(file_path_not_outliers)"
   ]
  }
 ],
 "metadata": {
  "kernelspec": {
   "display_name": "Python 3 (ipykernel)",
   "language": "python",
   "name": "python3"
  },
  "language_info": {
   "codemirror_mode": {
    "name": "ipython",
    "version": 3
   },
   "file_extension": ".py",
   "mimetype": "text/x-python",
   "name": "python",
   "nbconvert_exporter": "python",
   "pygments_lexer": "ipython3",
   "version": "3.10.6"
  }
 },
 "nbformat": 4,
 "nbformat_minor": 5
}
