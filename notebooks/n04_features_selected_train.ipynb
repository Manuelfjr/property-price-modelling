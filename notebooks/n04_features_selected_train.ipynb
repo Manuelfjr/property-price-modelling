{
 "cells": [
  {
   "cell_type": "markdown",
   "id": "b02169a4",
   "metadata": {},
   "source": [
    "## Imports"
   ]
  },
  {
   "cell_type": "code",
   "execution_count": null,
   "id": "7f732938",
   "metadata": {},
   "outputs": [],
   "source": [
    "# basics\n",
    "import pandas as pd\n",
    "import numpy as np\n",
    "import json\n",
    "from tqdm import tqdm\n",
    "import warnings\n",
    "import joblib\n",
    "\n",
    "# feature_importance\n",
    "import shap\n",
    "\n",
    "# viz\n",
    "import matplotlib.pyplot as plt\n",
    "\n",
    "# models\n",
    "from pycaret.regression import *\n",
    "from sklearn.ensemble import RandomForestRegressor\n",
    "from sklearn.model_selection import (\n",
    "    train_test_split,\n",
    "    GridSearchCV,\n",
    "    StratifiedKFold\n",
    ")\n",
    "from sklearn.model_selection import StratifiedKFold\n",
    "\n",
    "# metrics\n",
    "from sklearn.metrics import (\n",
    "    r2_score,\n",
    "    mean_absolute_percentage_error,\n",
    "    mean_squared_error,\n",
    "    median_absolute_error,\n",
    "    mean_absolute_error,\n",
    "    median_absolute_error,\n",
    "    make_scorer\n",
    ")\n",
    "\n",
    "# utils\n",
    "import os"
   ]
  },
  {
   "cell_type": "markdown",
   "id": "d8362cd3",
   "metadata": {},
   "source": [
    "## Parameters"
   ]
  },
  {
   "cell_type": "code",
   "execution_count": null,
   "id": "9e2a4288",
   "metadata": {},
   "outputs": [],
   "source": [
    "path_root = os.path.join(\"..\",\"data\")\n",
    "\n",
    "path_primary = os.path.join(\n",
    "    path_root, \"03_primary\"\n",
    ")\n",
    "path_model = os.path.join(\n",
    "    path_root, \"04_model\"\n",
    ")\n",
    "path_encoders = os.path.join(\n",
    "    path_model, \"encoders\"\n",
    ")\n",
    "path_model_final = os.path.join(\n",
    "    path_model, \"model\"\n",
    ")\n",
    "\n",
    "file_path_input_data = os.path.join(\n",
    "    path_primary, \"data_input.csv\"\n",
    ")\n",
    "\n",
    "file_path_metrics_features_test = os.path.join(\n",
    "    path_primary, \"features_test_metrics.json\"\n",
    ")\n",
    "file_path_metrics_features_selected = os.path.join(\n",
    "    path_primary, \"features_selected.json\"\n",
    ")\n",
    "file_path_best_params = os.path.join(\n",
    "    path_model, \"best_params.json\"\n",
    ")\n",
    "file_path_best_model = os.path.join(\n",
    "    path_model, \"model_tunned.joblib\"\n",
    ")\n",
    "file_path_not_outliers = os.path.join(\n",
    "    path_primary, \"data_not_outliers.csv\"\n",
    ")\n",
    "file_path_encoder_obj = os.path.join(\n",
    "    path_encoders, \"{}_encoder.joblib\"\n",
    ")\n",
    "file_path_encoder_order = os.path.join(\n",
    "    path_encoders, \"encoders_orders.csv\"\n",
    ")\n",
    "file_path_pycared_model = os.path.join(\n",
    "    path_model_final, \"{}.joblib\"\n",
    ")"
   ]
  },
  {
   "cell_type": "markdown",
   "id": "7efdba05",
   "metadata": {},
   "source": [
    "## Read dataset"
   ]
  },
  {
   "cell_type": "code",
   "execution_count": null,
   "id": "9fca8f70",
   "metadata": {},
   "outputs": [],
   "source": [
    "data_input = pd.read_csv(\n",
    "    file_path_input_data, # file_path_input_data, file_path_not_outliers\n",
    "    index_col = 0\n",
    ")"
   ]
  },
  {
   "cell_type": "code",
   "execution_count": null,
   "id": "306d96e8",
   "metadata": {},
   "outputs": [],
   "source": [
    "if os.path.exists(file_path_metrics_features_selected):\n",
    "    with open(file_path_metrics_features_selected, 'r') as json_file:\n",
    "        features_selected = json.load(json_file)\n",
    "    features_selected = features_selected[\"features_selected\"]"
   ]
  },
  {
   "cell_type": "code",
   "execution_count": null,
   "id": "9d00b166",
   "metadata": {},
   "outputs": [],
   "source": [
    "if os.path.exists(file_path_best_params):\n",
    "    with open(file_path_best_params, 'r') as json_file:\n",
    "        best_params = json.load(json_file)\n",
    "    best_params = best_params[\"params\"]\n",
    "else:\n",
    "    best_params = {\n",
    "        \"random_state\": 42\n",
    "    }"
   ]
  },
  {
   "cell_type": "markdown",
   "id": "ac142645",
   "metadata": {},
   "source": [
    "## Train model"
   ]
  },
  {
   "cell_type": "code",
   "execution_count": null,
   "id": "c10f2fc2",
   "metadata": {},
   "outputs": [],
   "source": [
    "target = [\n",
    "    \"price\"\n",
    "]\n",
    "cols_id_drop = [\n",
    "    \"cd_setor\",\n",
    "    \"ID\"\n",
    "]\n",
    "cols_drop = cols_id_drop + target"
   ]
  },
  {
   "cell_type": "code",
   "execution_count": null,
   "id": "c4b5bb54",
   "metadata": {},
   "outputs": [],
   "source": [
    "X = data_input[features_selected]\n",
    "\n",
    "y = data_input[target[0]]"
   ]
  },
  {
   "cell_type": "code",
   "execution_count": null,
   "id": "2bf70bca",
   "metadata": {},
   "outputs": [],
   "source": [
    "X_train, X_test, y_train, y_test = train_test_split(X,\n",
    "                                                    y, \n",
    "                                                    test_size = 0.2,\n",
    "                                                    random_state = best_params[\"random_state\"])\n",
    "rf_model = RandomForestRegressor(**best_params)\n",
    "rf_model.fit(X_train, y_train)"
   ]
  },
  {
   "cell_type": "markdown",
   "id": "4b452236",
   "metadata": {},
   "source": [
    "### Metrics"
   ]
  },
  {
   "cell_type": "code",
   "execution_count": null,
   "id": "39b6a3d2",
   "metadata": {},
   "outputs": [],
   "source": [
    "args_train = [\n",
    "    y_train.values,\n",
    "    rf_model.predict(X_train)\n",
    "]\n",
    "args_preds = [\n",
    "    y_test.values,\n",
    "    rf_model.predict(X_test)\n",
    "]\n",
    "basics_metrics = {\n",
    "        \"r2\": r2_score,\n",
    "        \"rmse\": mean_squared_error,\n",
    "        \"mape\": mean_absolute_percentage_error,\n",
    "        \"mse\": mean_squared_error,\n",
    "        \"mae\": mean_absolute_error,\n",
    "        \"median_ae\": median_absolute_error\n",
    "}\n",
    "metrics_train = {\n",
    "        \"correlation\": np.corrcoef(\n",
    "            *args_train\n",
    "        )[0,1],\n",
    "        \"size_train\": len(args_train[0])\n",
    "}\n",
    "\n",
    "metrics_pred = {\n",
    "        \"correlation\": np.corrcoef(\n",
    "            *args_preds\n",
    "        )[0,1],\n",
    "        \"size_test\": len(args_preds[0])\n",
    "}\n",
    "\n",
    "for name, content in basics_metrics.items():\n",
    "    if name != \"rmse\":\n",
    "        metrics_train[name] = content(*args_train)\n",
    "        metrics_pred[name] = content(*args_preds)\n",
    "    else:\n",
    "        metrics_train[name] = np.sqrt(content(*args_train))\n",
    "        metrics_pred[name] = np.sqrt(content(*args_preds))\n",
    "        \n",
    "for me in [[\"train\",metrics_train], [\"test\", metrics_pred]]:\n",
    "    print(f'-------- [ {me[0]} ] ----------')\n",
    "    for metric, result in me[1].items():\n",
    "        print(f\"{metric} : {round(result, 4)}\")"
   ]
  },
  {
   "cell_type": "code",
   "execution_count": null,
   "id": "18425587",
   "metadata": {},
   "outputs": [],
   "source": [
    "data_values = {}\n",
    "for content_all in zip(\n",
    "    ['train', 'test'],\n",
    "    [args_train, args_preds]\n",
    "):\n",
    "    name, content, arg = content_all\n",
    "    content = pd.DataFrame(arg, \n",
    "                              index = [\"y_true\", \"y_pred\"]).T\n",
    "    content = content.sort_values(\"y_true\", ascending = False)\n",
    "    content[\"rank_true\"] = (\n",
    "        content\n",
    "        .sort_values(\"y_true\", ascending = False)\n",
    "        .reset_index(drop=True)\n",
    "        .index\n",
    "    )\n",
    "    content = content.sort_values(\"y_pred\", ascending = False)\n",
    "    content[\"rank_pred\"] = (\n",
    "        content\n",
    "        .sort_values(\"y_pred\", ascending = False)\n",
    "        .reset_index(drop=True)\n",
    "        .index\n",
    "    )\n",
    "    content = content.sample(frac=1).reset_index(drop = True)\n",
    "    data_values[name] = content"
   ]
  },
  {
   "cell_type": "markdown",
   "id": "62db3d99",
   "metadata": {},
   "source": [
    "## Cross validation"
   ]
  },
  {
   "cell_type": "code",
   "execution_count": null,
   "id": "4940f8bc",
   "metadata": {},
   "outputs": [],
   "source": [
    "n_folds = 5\n",
    "stratified_kfold = StratifiedKFold(\n",
    "    n_splits = n_folds, \n",
    "    shuffle = True,\n",
    "    random_state = best_params[\"random_state\"]\n",
    ")\n",
    "\n",
    "scores = {\n",
    "    \"rmse\": [mean_squared_error, []],\n",
    "    \"r2\": [r2_score, []],\n",
    "    \"mape\": [mean_absolute_percentage_error, []],\n",
    "    \"mse\": [mean_squared_error, []],\n",
    "    \"median_ae\": [median_absolute_error, []],\n",
    "    \"mae\": [mean_absolute_error, []],\n",
    "    \"mae\": [median_absolute_error, []]\n",
    "}\n",
    "score_validation = []\n",
    "for train_index, test_index in tqdm(stratified_kfold.split(X, y)):\n",
    "    X_train, X_test = X.values[train_index], X.values[test_index]\n",
    "    y_train, y_test = y.values[train_index], y.values[test_index]\n",
    "    \n",
    "    rf.fit(X_train, y_train)\n",
    "\n",
    "    y_pred = rf.predict(X_test)\n",
    "\n",
    "    args = [y_test, y_pred]\n",
    "    for i, content in scores.items():\n",
    "        if i == \"rmse\":\n",
    "            content[1].append(\n",
    "                np.sqrt(content[0](*args))\n",
    "            )\n",
    "        else:\n",
    "            content[1].append(\n",
    "                content[0](*args)\n",
    "            )\n",
    "            \n",
    "for i, content in scores.items():\n",
    "    text_mean = f\"{i}: {round(np.mean(content[1]), 5)}\"\n",
    "    text_std = f\"{i}_std: {round(np.std(content[1]), 5)}\"\n",
    "    print(\"-\" * max((len(text_mean), len(text_std))))\n",
    "    print(text_mean)\n",
    "    print(text_std)\n",
    "    print(\"-\" * max((len(text_mean), len(text_std))))"
   ]
  },
  {
   "cell_type": "markdown",
   "id": "85aec7ff",
   "metadata": {},
   "source": [
    "## Tunning"
   ]
  },
  {
   "cell_type": "code",
   "execution_count": null,
   "id": "31bea5b0",
   "metadata": {
    "scrolled": true
   },
   "outputs": [],
   "source": [
    "parameters = {\n",
    "    'n_estimators': [50, 100, 150],\n",
    "    'max_depth': [None, 3],\n",
    "    'min_samples_split': [2, 4],\n",
    "    'min_samples_leaf': [1, 2, 3],\n",
    "    'max_features': [1, 'auto'],\n",
    "    \"random_state\": [42]\n",
    "}\n",
    "\n",
    "rf = RandomForestRegressor()\n",
    "\n",
    "scorer = make_scorer(mean_squared_error,\n",
    "                     greater_is_better=False)\n",
    "\n",
    "grid_search = GridSearchCV(\n",
    "    estimator = rf,\n",
    "    param_grid = parameters,\n",
    "    scoring = scorer, \n",
    "    cv = 5\n",
    ")\n",
    "\n",
    "with tqdm(total=len(parameters)) as pbar:\n",
    "    def update_pbar(*args):\n",
    "        pbar.update()\n",
    "\n",
    "    with warnings.catch_warnings():\n",
    "        warnings.simplefilter(\"ignore\")\n",
    "        grid_search.fit(X_train, y_train)\n",
    "\n",
    "best_model = grid_search.best_estimator_\n",
    "best_params = grid_search.best_params_\n",
    "\n",
    "print(\"Melhores parâmetros encontrados:\")\n",
    "for param, value in best_params.items():\n",
    "    print(f\"{param}: {value}\")\n",
    "\n",
    "best_score = grid_search.best_score_\n",
    "print(f\"Melhor resultado de erro quadrático médio: {best_score}\")"
   ]
  },
  {
   "cell_type": "code",
   "execution_count": null,
   "id": "f474eba4",
   "metadata": {},
   "outputs": [],
   "source": [
    "best_model_params = {\n",
    "    \"params\": best_params\n",
    "}"
   ]
  },
  {
   "cell_type": "code",
   "execution_count": null,
   "id": "d5bfbf71",
   "metadata": {},
   "outputs": [],
   "source": [
    "with open(file_path_best_params, 'w') as json_file:\n",
    "    json.dump(\n",
    "        best_model_params, \n",
    "        json_file\n",
    "    )"
   ]
  },
  {
   "cell_type": "code",
   "execution_count": null,
   "id": "8a5c849f",
   "metadata": {},
   "outputs": [],
   "source": [
    "joblib.dump(\n",
    "    best_model, \n",
    "    file_path_best_model\n",
    ")"
   ]
  },
  {
   "cell_type": "markdown",
   "id": "d196fe80",
   "metadata": {},
   "source": [
    "## Plots"
   ]
  },
  {
   "cell_type": "code",
   "execution_count": null,
   "id": "c45e8c7f",
   "metadata": {},
   "outputs": [],
   "source": [
    "fig, axes = plt.subplots(\n",
    "    1, 2, figsize = (20, 8)\n",
    ")\n",
    "for idx, (name, content) in enumerate(data_values.items()):\n",
    "    ax = axes[idx]\n",
    "    ax.plot(content[\"y_true\"], content[\"y_pred\"], '*')\n",
    "    ax.grid()\n",
    "    ax.set_title(name.title())\n",
    "    ax.set_xlabel(f\"True {target[0]}\")\n",
    "    ax.set_ylabel(f\"Predict {target[0]}\")"
   ]
  },
  {
   "cell_type": "markdown",
   "id": "90bf4308",
   "metadata": {},
   "source": [
    "## Select best model (pycaret)"
   ]
  },
  {
   "cell_type": "code",
   "execution_count": null,
   "id": "c9de9f57",
   "metadata": {
    "scrolled": true
   },
   "outputs": [],
   "source": [
    "regression_setup = setup(\n",
    "    data = data_input.drop(cols_id_drop, axis = 1),\n",
    "    target = target[0], \n",
    "    verbose = False, \n",
    "    fold = 5\n",
    ")\n",
    "\n",
    "best_model = compare_models()\n",
    "tuned_model = tune_model(best_model)\n",
    "final_model = finalize_model(tuned_model)\n",
    "predictions = predict_model(final_model)\n",
    "\n",
    "evaluate_model(final_model)\n",
    "df_metrics = pull()"
   ]
  },
  {
   "cell_type": "code",
   "execution_count": null,
   "id": "6b249d2e",
   "metadata": {},
   "outputs": [],
   "source": [
    "plot_model(final_model)"
   ]
  },
  {
   "cell_type": "markdown",
   "id": "28e207a1",
   "metadata": {},
   "source": [
    "## Pipeline (encoders)"
   ]
  },
  {
   "cell_type": "code",
   "execution_count": null,
   "id": "cd9d71b5",
   "metadata": {},
   "outputs": [],
   "source": [
    "if not os.path.exists(path_encoders):\n",
    "    os.makedirs(path_encoders)\n",
    "encoders_order = []\n",
    "for encoder_name, encoder_obj in final_model.steps[:(-1)]:\n",
    "    joblib.dump(\n",
    "        encoder_obj,\n",
    "        file_path_encoder_obj.format(encoder_name)\n",
    "    )\n",
    "    encoders_order.append([encoder_name, file_path_encoder_obj.format(encoder_name)])\n",
    "encoders_order = pd.DataFrame(encoders_order, columns = [\"name\", \"url\"])\n",
    "encoders_order.to_csv(file_path_encoder_order, index = False)"
   ]
  },
  {
   "cell_type": "markdown",
   "id": "201f1e2c",
   "metadata": {},
   "source": [
    "## Pipeline (pycaret model tunned)"
   ]
  },
  {
   "cell_type": "code",
   "execution_count": null,
   "id": "e9aa3aac",
   "metadata": {},
   "outputs": [],
   "source": [
    "for model_name, model_obj in [final_model.steps[(-1)]]:\n",
    "    joblib.dump(\n",
    "        model_obj,\n",
    "        file_path_pycared_model.format(model_name)\n",
    "    )"
   ]
  }
 ],
 "metadata": {
  "kernelspec": {
   "display_name": "Python 3 (ipykernel)",
   "language": "python",
   "name": "python3"
  },
  "language_info": {
   "codemirror_mode": {
    "name": "ipython",
    "version": 3
   },
   "file_extension": ".py",
   "mimetype": "text/x-python",
   "name": "python",
   "nbconvert_exporter": "python",
   "pygments_lexer": "ipython3",
   "version": "3.10.6"
  }
 },
 "nbformat": 4,
 "nbformat_minor": 5
}
