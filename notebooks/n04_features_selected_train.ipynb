{
 "cells": [
  {
   "cell_type": "markdown",
   "id": "b02169a4",
   "metadata": {},
   "source": [
    "## Imports"
   ]
  },
  {
   "cell_type": "code",
   "execution_count": 1,
   "id": "7f732938",
   "metadata": {},
   "outputs": [
    {
     "name": "stderr",
     "output_type": "stream",
     "text": [
      "/home/manuel/.cache/pypoetry/virtualenvs/property-price-modelling-UIhV6JXy-py3.10/lib/python3.10/site-packages/shap/utils/_clustering.py:35: NumbaDeprecationWarning: The 'nopython' keyword argument was not supplied to the 'numba.jit' decorator. The implicit default value for this argument is currently False, but it will be changed to True in Numba 0.59.0. See https://numba.readthedocs.io/en/stable/reference/deprecation.html#deprecation-of-object-mode-fall-back-behaviour-when-using-jit for details.\n",
      "  def _pt_shuffle_rec(i, indexes, index_mask, partition_tree, M, pos):\n",
      "/home/manuel/.cache/pypoetry/virtualenvs/property-price-modelling-UIhV6JXy-py3.10/lib/python3.10/site-packages/shap/utils/_clustering.py:54: NumbaDeprecationWarning: The 'nopython' keyword argument was not supplied to the 'numba.jit' decorator. The implicit default value for this argument is currently False, but it will be changed to True in Numba 0.59.0. See https://numba.readthedocs.io/en/stable/reference/deprecation.html#deprecation-of-object-mode-fall-back-behaviour-when-using-jit for details.\n",
      "  def delta_minimization_order(all_masks, max_swap_size=100, num_passes=2):\n",
      "/home/manuel/.cache/pypoetry/virtualenvs/property-price-modelling-UIhV6JXy-py3.10/lib/python3.10/site-packages/shap/utils/_clustering.py:63: NumbaDeprecationWarning: The 'nopython' keyword argument was not supplied to the 'numba.jit' decorator. The implicit default value for this argument is currently False, but it will be changed to True in Numba 0.59.0. See https://numba.readthedocs.io/en/stable/reference/deprecation.html#deprecation-of-object-mode-fall-back-behaviour-when-using-jit for details.\n",
      "  def _reverse_window(order, start, length):\n",
      "/home/manuel/.cache/pypoetry/virtualenvs/property-price-modelling-UIhV6JXy-py3.10/lib/python3.10/site-packages/shap/utils/_clustering.py:69: NumbaDeprecationWarning: The 'nopython' keyword argument was not supplied to the 'numba.jit' decorator. The implicit default value for this argument is currently False, but it will be changed to True in Numba 0.59.0. See https://numba.readthedocs.io/en/stable/reference/deprecation.html#deprecation-of-object-mode-fall-back-behaviour-when-using-jit for details.\n",
      "  def _reverse_window_score_gain(masks, order, start, length):\n",
      "/home/manuel/.cache/pypoetry/virtualenvs/property-price-modelling-UIhV6JXy-py3.10/lib/python3.10/site-packages/shap/utils/_clustering.py:77: NumbaDeprecationWarning: The 'nopython' keyword argument was not supplied to the 'numba.jit' decorator. The implicit default value for this argument is currently False, but it will be changed to True in Numba 0.59.0. See https://numba.readthedocs.io/en/stable/reference/deprecation.html#deprecation-of-object-mode-fall-back-behaviour-when-using-jit for details.\n",
      "  def _mask_delta_score(m1, m2):\n",
      "/home/manuel/.cache/pypoetry/virtualenvs/property-price-modelling-UIhV6JXy-py3.10/lib/python3.10/site-packages/shap/links.py:5: NumbaDeprecationWarning: The 'nopython' keyword argument was not supplied to the 'numba.jit' decorator. The implicit default value for this argument is currently False, but it will be changed to True in Numba 0.59.0. See https://numba.readthedocs.io/en/stable/reference/deprecation.html#deprecation-of-object-mode-fall-back-behaviour-when-using-jit for details.\n",
      "  def identity(x):\n",
      "/home/manuel/.cache/pypoetry/virtualenvs/property-price-modelling-UIhV6JXy-py3.10/lib/python3.10/site-packages/shap/links.py:10: NumbaDeprecationWarning: The 'nopython' keyword argument was not supplied to the 'numba.jit' decorator. The implicit default value for this argument is currently False, but it will be changed to True in Numba 0.59.0. See https://numba.readthedocs.io/en/stable/reference/deprecation.html#deprecation-of-object-mode-fall-back-behaviour-when-using-jit for details.\n",
      "  def _identity_inverse(x):\n",
      "/home/manuel/.cache/pypoetry/virtualenvs/property-price-modelling-UIhV6JXy-py3.10/lib/python3.10/site-packages/shap/links.py:15: NumbaDeprecationWarning: The 'nopython' keyword argument was not supplied to the 'numba.jit' decorator. The implicit default value for this argument is currently False, but it will be changed to True in Numba 0.59.0. See https://numba.readthedocs.io/en/stable/reference/deprecation.html#deprecation-of-object-mode-fall-back-behaviour-when-using-jit for details.\n",
      "  def logit(x):\n",
      "/home/manuel/.cache/pypoetry/virtualenvs/property-price-modelling-UIhV6JXy-py3.10/lib/python3.10/site-packages/shap/links.py:20: NumbaDeprecationWarning: The 'nopython' keyword argument was not supplied to the 'numba.jit' decorator. The implicit default value for this argument is currently False, but it will be changed to True in Numba 0.59.0. See https://numba.readthedocs.io/en/stable/reference/deprecation.html#deprecation-of-object-mode-fall-back-behaviour-when-using-jit for details.\n",
      "  def _logit_inverse(x):\n",
      "/home/manuel/.cache/pypoetry/virtualenvs/property-price-modelling-UIhV6JXy-py3.10/lib/python3.10/site-packages/shap/utils/_masked_model.py:363: NumbaDeprecationWarning: The 'nopython' keyword argument was not supplied to the 'numba.jit' decorator. The implicit default value for this argument is currently False, but it will be changed to True in Numba 0.59.0. See https://numba.readthedocs.io/en/stable/reference/deprecation.html#deprecation-of-object-mode-fall-back-behaviour-when-using-jit for details.\n",
      "  def _build_fixed_single_output(averaged_outs, last_outs, outputs, batch_positions, varying_rows, num_varying_rows, link, linearizing_weights):\n",
      "/home/manuel/.cache/pypoetry/virtualenvs/property-price-modelling-UIhV6JXy-py3.10/lib/python3.10/site-packages/shap/utils/_masked_model.py:385: NumbaDeprecationWarning: The 'nopython' keyword argument was not supplied to the 'numba.jit' decorator. The implicit default value for this argument is currently False, but it will be changed to True in Numba 0.59.0. See https://numba.readthedocs.io/en/stable/reference/deprecation.html#deprecation-of-object-mode-fall-back-behaviour-when-using-jit for details.\n",
      "  def _build_fixed_multi_output(averaged_outs, last_outs, outputs, batch_positions, varying_rows, num_varying_rows, link, linearizing_weights):\n",
      "/home/manuel/.cache/pypoetry/virtualenvs/property-price-modelling-UIhV6JXy-py3.10/lib/python3.10/site-packages/shap/utils/_masked_model.py:428: NumbaDeprecationWarning: The 'nopython' keyword argument was not supplied to the 'numba.jit' decorator. The implicit default value for this argument is currently False, but it will be changed to True in Numba 0.59.0. See https://numba.readthedocs.io/en/stable/reference/deprecation.html#deprecation-of-object-mode-fall-back-behaviour-when-using-jit for details.\n",
      "  def _init_masks(cluster_matrix, M, indices_row_pos, indptr):\n",
      "/home/manuel/.cache/pypoetry/virtualenvs/property-price-modelling-UIhV6JXy-py3.10/lib/python3.10/site-packages/shap/utils/_masked_model.py:439: NumbaDeprecationWarning: The 'nopython' keyword argument was not supplied to the 'numba.jit' decorator. The implicit default value for this argument is currently False, but it will be changed to True in Numba 0.59.0. See https://numba.readthedocs.io/en/stable/reference/deprecation.html#deprecation-of-object-mode-fall-back-behaviour-when-using-jit for details.\n",
      "  def _rec_fill_masks(cluster_matrix, indices_row_pos, indptr, indices, M, ind):\n",
      "/home/manuel/.cache/pypoetry/virtualenvs/property-price-modelling-UIhV6JXy-py3.10/lib/python3.10/site-packages/shap/maskers/_tabular.py:186: NumbaDeprecationWarning: The 'nopython' keyword argument was not supplied to the 'numba.jit' decorator. The implicit default value for this argument is currently False, but it will be changed to True in Numba 0.59.0. See https://numba.readthedocs.io/en/stable/reference/deprecation.html#deprecation-of-object-mode-fall-back-behaviour-when-using-jit for details.\n",
      "  def _single_delta_mask(dind, masked_inputs, last_mask, data, x, noop_code):\n",
      "/home/manuel/.cache/pypoetry/virtualenvs/property-price-modelling-UIhV6JXy-py3.10/lib/python3.10/site-packages/shap/maskers/_tabular.py:197: NumbaDeprecationWarning: The 'nopython' keyword argument was not supplied to the 'numba.jit' decorator. The implicit default value for this argument is currently False, but it will be changed to True in Numba 0.59.0. See https://numba.readthedocs.io/en/stable/reference/deprecation.html#deprecation-of-object-mode-fall-back-behaviour-when-using-jit for details.\n",
      "  def _delta_masking(masks, x, curr_delta_inds, varying_rows_out,\n",
      "/home/manuel/.cache/pypoetry/virtualenvs/property-price-modelling-UIhV6JXy-py3.10/lib/python3.10/site-packages/shap/maskers/_image.py:175: NumbaDeprecationWarning: The 'nopython' keyword argument was not supplied to the 'numba.jit' decorator. The implicit default value for this argument is currently False, but it will be changed to True in Numba 0.59.0. See https://numba.readthedocs.io/en/stable/reference/deprecation.html#deprecation-of-object-mode-fall-back-behaviour-when-using-jit for details.\n",
      "  def _jit_build_partition_tree(xmin, xmax, ymin, ymax, zmin, zmax, total_ywidth, total_zwidth, M, clustering, q):\n",
      "/home/manuel/.cache/pypoetry/virtualenvs/property-price-modelling-UIhV6JXy-py3.10/lib/python3.10/site-packages/shap/explainers/_partition.py:676: NumbaDeprecationWarning: The 'nopython' keyword argument was not supplied to the 'numba.jit' decorator. The implicit default value for this argument is currently False, but it will be changed to True in Numba 0.59.0. See https://numba.readthedocs.io/en/stable/reference/deprecation.html#deprecation-of-object-mode-fall-back-behaviour-when-using-jit for details.\n",
      "  def lower_credit(i, value, M, values, clustering):\n",
      "The 'nopython' keyword argument was not supplied to the 'numba.jit' decorator. The implicit default value for this argument is currently False, but it will be changed to True in Numba 0.59.0. See https://numba.readthedocs.io/en/stable/reference/deprecation.html#deprecation-of-object-mode-fall-back-behaviour-when-using-jit for details.\n",
      "The 'nopython' keyword argument was not supplied to the 'numba.jit' decorator. The implicit default value for this argument is currently False, but it will be changed to True in Numba 0.59.0. See https://numba.readthedocs.io/en/stable/reference/deprecation.html#deprecation-of-object-mode-fall-back-behaviour-when-using-jit for details.\n"
     ]
    }
   ],
   "source": [
    "import sys\n",
    "from pathlib import Path\n",
    "PROJECT_DIR = Path.cwd().parent\n",
    "sys.path.append(str(PROJECT_DIR))\n",
    "\n",
    "# basics\n",
    "import pandas as pd\n",
    "import numpy as np\n",
    "import json\n",
    "from tqdm import tqdm\n",
    "import warnings\n",
    "import joblib\n",
    "\n",
    "# feature_importance\n",
    "import shap\n",
    "\n",
    "# viz\n",
    "import matplotlib.pyplot as plt\n",
    "\n",
    "# models\n",
    "from pycaret.regression import *\n",
    "from sklearn.ensemble import RandomForestRegressor\n",
    "from sklearn.model_selection import (\n",
    "    train_test_split,\n",
    "    GridSearchCV,\n",
    "    StratifiedKFold\n",
    ")\n",
    "from sklearn.model_selection import StratifiedKFold\n",
    "\n",
    "# metrics\n",
    "from sklearn.metrics import (\n",
    "    r2_score,\n",
    "    mean_absolute_percentage_error,\n",
    "    mean_squared_error,\n",
    "    median_absolute_error,\n",
    "    mean_absolute_error,\n",
    "    median_absolute_error,\n",
    "    make_scorer\n",
    ")\n",
    "\n",
    "# utils\n",
    "import os\n",
    "from ppm.nodes.metrics_calculator import (\n",
    "    metrics_calculate,\n",
    "    show_results\n",
    ")\n",
    "from ppm.nodes.process_outputs import (\n",
    "    ranking_output\n",
    ")\n",
    "from ppm.nodes.cross_validation import (\n",
    "    cross_validation\n",
    ")\n",
    "from ppm.nodes.tunning_model import (\n",
    "    perform_grid_search\n",
    ")\n",
    "from ppm.nodes.plots import (\n",
    "    scatterplot_yx\n",
    ")"
   ]
  },
  {
   "cell_type": "markdown",
   "id": "d8362cd3",
   "metadata": {},
   "source": [
    "## Parameters"
   ]
  },
  {
   "cell_type": "code",
   "execution_count": 2,
   "id": "9e2a4288",
   "metadata": {},
   "outputs": [],
   "source": [
    "path_root = os.path.join(\"..\",\"data\")\n",
    "\n",
    "path_primary = os.path.join(\n",
    "    path_root, \"03_primary\"\n",
    ")\n",
    "path_model = os.path.join(\n",
    "    path_root, \"04_model\"\n",
    ")\n",
    "path_encoders = os.path.join(\n",
    "    path_model, \"encoders\"\n",
    ")\n",
    "path_model_final = os.path.join(\n",
    "    path_model, \"model\"\n",
    ")\n",
    "\n",
    "file_path_input_data = os.path.join(\n",
    "    path_primary, \"data_input.csv\"\n",
    ")\n",
    "\n",
    "file_path_metrics_features_test = os.path.join(\n",
    "    path_primary, \"features_test_metrics.json\"\n",
    ")\n",
    "file_path_metrics_features_selected = os.path.join(\n",
    "    path_primary, \"features_selected.json\"\n",
    ")\n",
    "file_path_best_params = os.path.join(\n",
    "    path_model, \"best_params.json\"\n",
    ")\n",
    "file_path_best_model = os.path.join(\n",
    "    path_model, \"model_tunned.joblib\"\n",
    ")\n",
    "file_path_not_outliers = os.path.join(\n",
    "    path_primary, \"data_not_outliers.csv\"\n",
    ")\n",
    "file_path_encoder_obj = os.path.join(\n",
    "    path_encoders, \"{}_encoder.joblib\"\n",
    ")\n",
    "file_path_encoder_order = os.path.join(\n",
    "    path_encoders, \"encoders_orders.csv\"\n",
    ")\n",
    "file_path_pycared_model = os.path.join(\n",
    "    path_model_final, \"{}.joblib\"\n",
    ")"
   ]
  },
  {
   "cell_type": "markdown",
   "id": "7efdba05",
   "metadata": {},
   "source": [
    "## Read dataset"
   ]
  },
  {
   "cell_type": "code",
   "execution_count": 3,
   "id": "9fca8f70",
   "metadata": {},
   "outputs": [],
   "source": [
    "data_input = pd.read_csv(\n",
    "    file_path_input_data, # file_path_input_data, file_path_not_outliers\n",
    "    index_col = 0\n",
    ")"
   ]
  },
  {
   "cell_type": "code",
   "execution_count": 4,
   "id": "306d96e8",
   "metadata": {},
   "outputs": [],
   "source": [
    "if os.path.exists(file_path_metrics_features_selected):\n",
    "    with open(file_path_metrics_features_selected, 'r') as json_file:\n",
    "        features_selected = json.load(json_file)\n",
    "    features_selected = features_selected[\"features_selected\"]"
   ]
  },
  {
   "cell_type": "code",
   "execution_count": 5,
   "id": "9d00b166",
   "metadata": {},
   "outputs": [],
   "source": [
    "if os.path.exists(file_path_best_params):\n",
    "    with open(file_path_best_params, 'r') as json_file:\n",
    "        best_params = json.load(json_file)\n",
    "    best_params = best_params[\"params\"]\n",
    "else:\n",
    "    best_params = {\n",
    "        \"random_state\": 42\n",
    "    }"
   ]
  },
  {
   "cell_type": "markdown",
   "id": "ac142645",
   "metadata": {},
   "source": [
    "## Train model"
   ]
  },
  {
   "cell_type": "code",
   "execution_count": 6,
   "id": "c10f2fc2",
   "metadata": {},
   "outputs": [],
   "source": [
    "target = [\n",
    "    \"price\"\n",
    "]\n",
    "cols_id_drop = [\n",
    "    \"cd_setor\",\n",
    "    \"ID\"\n",
    "]\n",
    "cols_drop = cols_id_drop + target"
   ]
  },
  {
   "cell_type": "code",
   "execution_count": 7,
   "id": "c4b5bb54",
   "metadata": {},
   "outputs": [],
   "source": [
    "X = data_input[features_selected]\n",
    "\n",
    "y = data_input[target[0]]"
   ]
  },
  {
   "cell_type": "code",
   "execution_count": 8,
   "id": "2bf70bca",
   "metadata": {},
   "outputs": [
    {
     "data": {
      "text/html": [
       "<style>#sk-container-id-1 {color: black;background-color: white;}#sk-container-id-1 pre{padding: 0;}#sk-container-id-1 div.sk-toggleable {background-color: white;}#sk-container-id-1 label.sk-toggleable__label {cursor: pointer;display: block;width: 100%;margin-bottom: 0;padding: 0.3em;box-sizing: border-box;text-align: center;}#sk-container-id-1 label.sk-toggleable__label-arrow:before {content: \"▸\";float: left;margin-right: 0.25em;color: #696969;}#sk-container-id-1 label.sk-toggleable__label-arrow:hover:before {color: black;}#sk-container-id-1 div.sk-estimator:hover label.sk-toggleable__label-arrow:before {color: black;}#sk-container-id-1 div.sk-toggleable__content {max-height: 0;max-width: 0;overflow: hidden;text-align: left;background-color: #f0f8ff;}#sk-container-id-1 div.sk-toggleable__content pre {margin: 0.2em;color: black;border-radius: 0.25em;background-color: #f0f8ff;}#sk-container-id-1 input.sk-toggleable__control:checked~div.sk-toggleable__content {max-height: 200px;max-width: 100%;overflow: auto;}#sk-container-id-1 input.sk-toggleable__control:checked~label.sk-toggleable__label-arrow:before {content: \"▾\";}#sk-container-id-1 div.sk-estimator input.sk-toggleable__control:checked~label.sk-toggleable__label {background-color: #d4ebff;}#sk-container-id-1 div.sk-label input.sk-toggleable__control:checked~label.sk-toggleable__label {background-color: #d4ebff;}#sk-container-id-1 input.sk-hidden--visually {border: 0;clip: rect(1px 1px 1px 1px);clip: rect(1px, 1px, 1px, 1px);height: 1px;margin: -1px;overflow: hidden;padding: 0;position: absolute;width: 1px;}#sk-container-id-1 div.sk-estimator {font-family: monospace;background-color: #f0f8ff;border: 1px dotted black;border-radius: 0.25em;box-sizing: border-box;margin-bottom: 0.5em;}#sk-container-id-1 div.sk-estimator:hover {background-color: #d4ebff;}#sk-container-id-1 div.sk-parallel-item::after {content: \"\";width: 100%;border-bottom: 1px solid gray;flex-grow: 1;}#sk-container-id-1 div.sk-label:hover label.sk-toggleable__label {background-color: #d4ebff;}#sk-container-id-1 div.sk-serial::before {content: \"\";position: absolute;border-left: 1px solid gray;box-sizing: border-box;top: 0;bottom: 0;left: 50%;z-index: 0;}#sk-container-id-1 div.sk-serial {display: flex;flex-direction: column;align-items: center;background-color: white;padding-right: 0.2em;padding-left: 0.2em;position: relative;}#sk-container-id-1 div.sk-item {position: relative;z-index: 1;}#sk-container-id-1 div.sk-parallel {display: flex;align-items: stretch;justify-content: center;background-color: white;position: relative;}#sk-container-id-1 div.sk-item::before, #sk-container-id-1 div.sk-parallel-item::before {content: \"\";position: absolute;border-left: 1px solid gray;box-sizing: border-box;top: 0;bottom: 0;left: 50%;z-index: -1;}#sk-container-id-1 div.sk-parallel-item {display: flex;flex-direction: column;z-index: 1;position: relative;background-color: white;}#sk-container-id-1 div.sk-parallel-item:first-child::after {align-self: flex-end;width: 50%;}#sk-container-id-1 div.sk-parallel-item:last-child::after {align-self: flex-start;width: 50%;}#sk-container-id-1 div.sk-parallel-item:only-child::after {width: 0;}#sk-container-id-1 div.sk-dashed-wrapped {border: 1px dashed gray;margin: 0 0.4em 0.5em 0.4em;box-sizing: border-box;padding-bottom: 0.4em;background-color: white;}#sk-container-id-1 div.sk-label label {font-family: monospace;font-weight: bold;display: inline-block;line-height: 1.2em;}#sk-container-id-1 div.sk-label-container {text-align: center;}#sk-container-id-1 div.sk-container {/* jupyter's `normalize.less` sets `[hidden] { display: none; }` but bootstrap.min.css set `[hidden] { display: none !important; }` so we also need the `!important` here to be able to override the default hidden behavior on the sphinx rendered scikit-learn.org. See: https://github.com/scikit-learn/scikit-learn/issues/21755 */display: inline-block !important;position: relative;}#sk-container-id-1 div.sk-text-repr-fallback {display: none;}</style><div id=\"sk-container-id-1\" class=\"sk-top-container\"><div class=\"sk-text-repr-fallback\"><pre>RandomForestRegressor(max_features=&#x27;auto&#x27;, min_samples_leaf=2, n_estimators=50,\n",
       "                      random_state=42)</pre><b>In a Jupyter environment, please rerun this cell to show the HTML representation or trust the notebook. <br />On GitHub, the HTML representation is unable to render, please try loading this page with nbviewer.org.</b></div><div class=\"sk-container\" hidden><div class=\"sk-item\"><div class=\"sk-estimator sk-toggleable\"><input class=\"sk-toggleable__control sk-hidden--visually\" id=\"sk-estimator-id-1\" type=\"checkbox\" checked><label for=\"sk-estimator-id-1\" class=\"sk-toggleable__label sk-toggleable__label-arrow\">RandomForestRegressor</label><div class=\"sk-toggleable__content\"><pre>RandomForestRegressor(max_features=&#x27;auto&#x27;, min_samples_leaf=2, n_estimators=50,\n",
       "                      random_state=42)</pre></div></div></div></div></div>"
      ],
      "text/plain": [
       "RandomForestRegressor(max_features='auto', min_samples_leaf=2, n_estimators=50,\n",
       "                      random_state=42)"
      ]
     },
     "execution_count": 8,
     "metadata": {},
     "output_type": "execute_result"
    }
   ],
   "source": [
    "X_train, X_test, y_train, y_test = train_test_split(X,\n",
    "                                                    y, \n",
    "                                                    test_size = 0.2,\n",
    "                                                    random_state = best_params[\"random_state\"])\n",
    "model = RandomForestRegressor(**best_params)\n",
    "model.fit(X_train, y_train)"
   ]
  },
  {
   "cell_type": "markdown",
   "id": "4b452236",
   "metadata": {},
   "source": [
    "### Metrics"
   ]
  },
  {
   "cell_type": "code",
   "execution_count": 9,
   "id": "602741c3",
   "metadata": {},
   "outputs": [
    {
     "name": "stdout",
     "output_type": "stream",
     "text": [
      "-------- [ train ] ----------\n",
      "r2 : 0.909\n",
      "mape : 0.1057\n",
      "rmse : 58700.0641\n",
      "mse : 3445697529.233\n",
      "mae : 37380.8003\n",
      "median_ae : 23620.5629\n",
      "correlation : 0.9559\n",
      "size : 697\n",
      "-------- [ test ] ----------\n",
      "r2 : 0.7777\n",
      "mape : 0.1915\n",
      "rmse : 82603.9244\n",
      "mse : 6823408319.1853\n",
      "mae : 60570.3053\n",
      "median_ae : 49543.8062\n",
      "correlation : 0.8842\n",
      "size : 175\n"
     ]
    }
   ],
   "source": [
    "args_train = [\n",
    "    y_train.values,\n",
    "    model.predict(X_train)\n",
    "]\n",
    "args_preds = [\n",
    "    y_test.values,\n",
    "    model.predict(X_test)\n",
    "]\n",
    "\n",
    "metrics_train = metrics_calculate(args_train)\n",
    "metrics_pred = metrics_calculate(args_preds)\n",
    "\n",
    "show_results(metrics_train, \"train\")\n",
    "show_results(metrics_pred, \"test\")"
   ]
  },
  {
   "cell_type": "code",
   "execution_count": 10,
   "id": "11fff798",
   "metadata": {},
   "outputs": [],
   "source": [
    "data_values = {}\n",
    "for name, args in zip(['train', 'test'], [args_train, args_preds]):\n",
    "    content = ranking_output(args)\n",
    "    data_values[name] = content"
   ]
  },
  {
   "cell_type": "markdown",
   "id": "62db3d99",
   "metadata": {},
   "source": [
    "## Cross validation"
   ]
  },
  {
   "cell_type": "code",
   "execution_count": null,
   "id": "c43c2a33",
   "metadata": {
    "scrolled": true
   },
   "outputs": [],
   "source": [
    "scores = cross_validation(X,\n",
    "                          y, \n",
    "                          [model])"
   ]
  },
  {
   "cell_type": "markdown",
   "id": "85aec7ff",
   "metadata": {},
   "source": [
    "## Tunning"
   ]
  },
  {
   "cell_type": "code",
   "execution_count": null,
   "id": "16da08d5",
   "metadata": {},
   "outputs": [],
   "source": [
    "parameters = {\n",
    "    'n_estimators': [50, 100, 150],\n",
    "    'max_depth': [None, 3],\n",
    "    'min_samples_split': [2, 4],\n",
    "    'min_samples_leaf': [1, 2, 3],\n",
    "    'max_features': [1, 'auto'],\n",
    "    \"random_state\": [42]\n",
    "}\n",
    "\n",
    "rf = RandomForestRegressor()\n",
    "\n",
    "scorer = make_scorer(\n",
    "    mean_squared_error,\n",
    "    greater_is_better = False\n",
    ")\n",
    "best_model, best_params = perform_grid_search(\n",
    "    X_train,\n",
    "    y_train,\n",
    "    rf,\n",
    "    parameters,\n",
    "    scorer,\n",
    "    cv = 5\n",
    ")\n",
    "best_params"
   ]
  },
  {
   "cell_type": "code",
   "execution_count": null,
   "id": "f474eba4",
   "metadata": {},
   "outputs": [],
   "source": [
    "best_model_params = {\n",
    "    \"params\": best_params\n",
    "}"
   ]
  },
  {
   "cell_type": "code",
   "execution_count": null,
   "id": "d5bfbf71",
   "metadata": {},
   "outputs": [],
   "source": [
    "with open(file_path_best_params, 'w') as json_file:\n",
    "    json.dump(\n",
    "        best_model_params, \n",
    "        json_file\n",
    "    )"
   ]
  },
  {
   "cell_type": "code",
   "execution_count": null,
   "id": "8a5c849f",
   "metadata": {},
   "outputs": [],
   "source": [
    "joblib.dump(\n",
    "    best_model, \n",
    "    file_path_best_model\n",
    ")"
   ]
  },
  {
   "cell_type": "markdown",
   "id": "d196fe80",
   "metadata": {},
   "source": [
    "## Plots"
   ]
  },
  {
   "cell_type": "code",
   "execution_count": null,
   "id": "7efa0bc4",
   "metadata": {},
   "outputs": [],
   "source": [
    "args_train = [data_values[\"train\"][\"y_true\"], data_values[\"train\"][\"y_pred\"]]\n",
    "args_preds = [data_values[\"test\"][\"y_true\"], data_values[\"test\"][\"y_pred\"]]\n",
    "fig_args = {\"figsize\": (20, 8), \"nrows\": 1, \"ncols\": 2}\n",
    "\n",
    "fig_scatter_xy = scatterplot_yx(args_train, args_preds, fig_args)"
   ]
  },
  {
   "cell_type": "markdown",
   "id": "90bf4308",
   "metadata": {},
   "source": [
    "## Select best model (pycaret)"
   ]
  },
  {
   "cell_type": "code",
   "execution_count": null,
   "id": "c9de9f57",
   "metadata": {
    "scrolled": true
   },
   "outputs": [
    {
     "data": {
      "text/html": [],
      "text/plain": [
       "<IPython.core.display.HTML object>"
      ]
     },
     "metadata": {},
     "output_type": "display_data"
    },
    {
     "data": {
      "text/html": [
       "<style type=\"text/css\">\n",
       "#T_b0b22 th {\n",
       "  text-align: left;\n",
       "}\n",
       "#T_b0b22_row0_col0, #T_b0b22_row0_col6, #T_b0b22_row1_col0, #T_b0b22_row1_col1, #T_b0b22_row1_col2, #T_b0b22_row1_col3, #T_b0b22_row1_col4, #T_b0b22_row1_col5, #T_b0b22_row2_col0, #T_b0b22_row2_col1, #T_b0b22_row2_col2, #T_b0b22_row2_col3, #T_b0b22_row2_col4, #T_b0b22_row2_col5, #T_b0b22_row2_col6, #T_b0b22_row3_col0, #T_b0b22_row3_col1, #T_b0b22_row3_col2, #T_b0b22_row3_col3, #T_b0b22_row3_col4, #T_b0b22_row3_col5, #T_b0b22_row3_col6, #T_b0b22_row4_col0, #T_b0b22_row4_col1, #T_b0b22_row4_col2, #T_b0b22_row4_col3, #T_b0b22_row4_col4, #T_b0b22_row4_col5, #T_b0b22_row4_col6, #T_b0b22_row5_col0, #T_b0b22_row5_col1, #T_b0b22_row5_col2, #T_b0b22_row5_col3, #T_b0b22_row5_col4, #T_b0b22_row5_col5, #T_b0b22_row5_col6, #T_b0b22_row6_col0, #T_b0b22_row6_col1, #T_b0b22_row6_col2, #T_b0b22_row6_col3, #T_b0b22_row6_col4, #T_b0b22_row6_col5, #T_b0b22_row6_col6, #T_b0b22_row7_col0, #T_b0b22_row7_col1, #T_b0b22_row7_col2, #T_b0b22_row7_col3, #T_b0b22_row7_col4, #T_b0b22_row7_col5, #T_b0b22_row7_col6, #T_b0b22_row8_col0, #T_b0b22_row8_col1, #T_b0b22_row8_col2, #T_b0b22_row8_col3, #T_b0b22_row8_col4, #T_b0b22_row8_col5, #T_b0b22_row8_col6, #T_b0b22_row9_col0, #T_b0b22_row9_col1, #T_b0b22_row9_col2, #T_b0b22_row9_col3, #T_b0b22_row9_col4, #T_b0b22_row9_col5, #T_b0b22_row9_col6, #T_b0b22_row10_col0, #T_b0b22_row10_col1, #T_b0b22_row10_col2, #T_b0b22_row10_col3, #T_b0b22_row10_col4, #T_b0b22_row10_col5, #T_b0b22_row10_col6, #T_b0b22_row11_col0, #T_b0b22_row11_col1, #T_b0b22_row11_col2, #T_b0b22_row11_col3, #T_b0b22_row11_col4, #T_b0b22_row11_col5, #T_b0b22_row11_col6, #T_b0b22_row12_col0, #T_b0b22_row12_col1, #T_b0b22_row12_col2, #T_b0b22_row12_col3, #T_b0b22_row12_col4, #T_b0b22_row12_col5, #T_b0b22_row12_col6, #T_b0b22_row13_col0, #T_b0b22_row13_col1, #T_b0b22_row13_col2, #T_b0b22_row13_col3, #T_b0b22_row13_col4, #T_b0b22_row13_col5, #T_b0b22_row13_col6, #T_b0b22_row14_col0, #T_b0b22_row14_col1, #T_b0b22_row14_col2, #T_b0b22_row14_col3, #T_b0b22_row14_col4, #T_b0b22_row14_col5, #T_b0b22_row14_col6, #T_b0b22_row15_col0, #T_b0b22_row15_col1, #T_b0b22_row15_col2, #T_b0b22_row15_col3, #T_b0b22_row15_col4, #T_b0b22_row15_col5, #T_b0b22_row15_col6, #T_b0b22_row16_col0, #T_b0b22_row16_col1, #T_b0b22_row16_col2, #T_b0b22_row16_col3, #T_b0b22_row16_col4, #T_b0b22_row16_col5, #T_b0b22_row16_col6 {\n",
       "  text-align: left;\n",
       "}\n",
       "#T_b0b22_row0_col1, #T_b0b22_row0_col2, #T_b0b22_row0_col3, #T_b0b22_row0_col4, #T_b0b22_row0_col5, #T_b0b22_row1_col6 {\n",
       "  text-align: left;\n",
       "  background-color: yellow;\n",
       "}\n",
       "#T_b0b22_row0_col7, #T_b0b22_row1_col7, #T_b0b22_row2_col7, #T_b0b22_row3_col7, #T_b0b22_row4_col7, #T_b0b22_row5_col7, #T_b0b22_row6_col7, #T_b0b22_row7_col7, #T_b0b22_row8_col7, #T_b0b22_row9_col7, #T_b0b22_row10_col7, #T_b0b22_row11_col7, #T_b0b22_row12_col7, #T_b0b22_row13_col7, #T_b0b22_row15_col7, #T_b0b22_row16_col7 {\n",
       "  text-align: left;\n",
       "  background-color: lightgrey;\n",
       "}\n",
       "#T_b0b22_row14_col7 {\n",
       "  text-align: left;\n",
       "  background-color: yellow;\n",
       "  background-color: lightgrey;\n",
       "}\n",
       "</style>\n",
       "<table id=\"T_b0b22\">\n",
       "  <thead>\n",
       "    <tr>\n",
       "      <th class=\"blank level0\" >&nbsp;</th>\n",
       "      <th id=\"T_b0b22_level0_col0\" class=\"col_heading level0 col0\" >Model</th>\n",
       "      <th id=\"T_b0b22_level0_col1\" class=\"col_heading level0 col1\" >MAE</th>\n",
       "      <th id=\"T_b0b22_level0_col2\" class=\"col_heading level0 col2\" >MSE</th>\n",
       "      <th id=\"T_b0b22_level0_col3\" class=\"col_heading level0 col3\" >RMSE</th>\n",
       "      <th id=\"T_b0b22_level0_col4\" class=\"col_heading level0 col4\" >R2</th>\n",
       "      <th id=\"T_b0b22_level0_col5\" class=\"col_heading level0 col5\" >RMSLE</th>\n",
       "      <th id=\"T_b0b22_level0_col6\" class=\"col_heading level0 col6\" >MAPE</th>\n",
       "      <th id=\"T_b0b22_level0_col7\" class=\"col_heading level0 col7\" >TT (Sec)</th>\n",
       "    </tr>\n",
       "  </thead>\n",
       "  <tbody>\n",
       "    <tr>\n",
       "      <th id=\"T_b0b22_level0_row0\" class=\"row_heading level0 row0\" >rf</th>\n",
       "      <td id=\"T_b0b22_row0_col0\" class=\"data row0 col0\" >Random Forest Regressor</td>\n",
       "      <td id=\"T_b0b22_row0_col1\" class=\"data row0 col1\" >67774.1940</td>\n",
       "      <td id=\"T_b0b22_row0_col2\" class=\"data row0 col2\" >9374241830.1535</td>\n",
       "      <td id=\"T_b0b22_row0_col3\" class=\"data row0 col3\" >96462.7796</td>\n",
       "      <td id=\"T_b0b22_row0_col4\" class=\"data row0 col4\" >0.7249</td>\n",
       "      <td id=\"T_b0b22_row0_col5\" class=\"data row0 col5\" >0.2514</td>\n",
       "      <td id=\"T_b0b22_row0_col6\" class=\"data row0 col6\" >0.2046</td>\n",
       "      <td id=\"T_b0b22_row0_col7\" class=\"data row0 col7\" >10.0860</td>\n",
       "    </tr>\n",
       "    <tr>\n",
       "      <th id=\"T_b0b22_level0_row1\" class=\"row_heading level0 row1\" >gbr</th>\n",
       "      <td id=\"T_b0b22_row1_col0\" class=\"data row1 col0\" >Gradient Boosting Regressor</td>\n",
       "      <td id=\"T_b0b22_row1_col1\" class=\"data row1 col1\" >68426.6461</td>\n",
       "      <td id=\"T_b0b22_row1_col2\" class=\"data row1 col2\" >9632582114.3378</td>\n",
       "      <td id=\"T_b0b22_row1_col3\" class=\"data row1 col3\" >97753.6715</td>\n",
       "      <td id=\"T_b0b22_row1_col4\" class=\"data row1 col4\" >0.7177</td>\n",
       "      <td id=\"T_b0b22_row1_col5\" class=\"data row1 col5\" >0.2541</td>\n",
       "      <td id=\"T_b0b22_row1_col6\" class=\"data row1 col6\" >0.2039</td>\n",
       "      <td id=\"T_b0b22_row1_col7\" class=\"data row1 col7\" >4.6200</td>\n",
       "    </tr>\n",
       "    <tr>\n",
       "      <th id=\"T_b0b22_level0_row2\" class=\"row_heading level0 row2\" >lightgbm</th>\n",
       "      <td id=\"T_b0b22_row2_col0\" class=\"data row2 col0\" >Light Gradient Boosting Machine</td>\n",
       "      <td id=\"T_b0b22_row2_col1\" class=\"data row2 col1\" >70161.9852</td>\n",
       "      <td id=\"T_b0b22_row2_col2\" class=\"data row2 col2\" >10182913180.9742</td>\n",
       "      <td id=\"T_b0b22_row2_col3\" class=\"data row2 col3\" >100320.3286</td>\n",
       "      <td id=\"T_b0b22_row2_col4\" class=\"data row2 col4\" >0.7023</td>\n",
       "      <td id=\"T_b0b22_row2_col5\" class=\"data row2 col5\" >0.2622</td>\n",
       "      <td id=\"T_b0b22_row2_col6\" class=\"data row2 col6\" >0.2093</td>\n",
       "      <td id=\"T_b0b22_row2_col7\" class=\"data row2 col7\" >2.0120</td>\n",
       "    </tr>\n",
       "    <tr>\n",
       "      <th id=\"T_b0b22_level0_row3\" class=\"row_heading level0 row3\" >et</th>\n",
       "      <td id=\"T_b0b22_row3_col0\" class=\"data row3 col0\" >Extra Trees Regressor</td>\n",
       "      <td id=\"T_b0b22_row3_col1\" class=\"data row3 col1\" >69359.8814</td>\n",
       "      <td id=\"T_b0b22_row3_col2\" class=\"data row3 col2\" >10384674741.6827</td>\n",
       "      <td id=\"T_b0b22_row3_col3\" class=\"data row3 col3\" >100974.3005</td>\n",
       "      <td id=\"T_b0b22_row3_col4\" class=\"data row3 col4\" >0.6972</td>\n",
       "      <td id=\"T_b0b22_row3_col5\" class=\"data row3 col5\" >0.2640</td>\n",
       "      <td id=\"T_b0b22_row3_col6\" class=\"data row3 col6\" >0.2098</td>\n",
       "      <td id=\"T_b0b22_row3_col7\" class=\"data row3 col7\" >8.5920</td>\n",
       "    </tr>\n",
       "    <tr>\n",
       "      <th id=\"T_b0b22_level0_row4\" class=\"row_heading level0 row4\" >ada</th>\n",
       "      <td id=\"T_b0b22_row4_col0\" class=\"data row4 col0\" >AdaBoost Regressor</td>\n",
       "      <td id=\"T_b0b22_row4_col1\" class=\"data row4 col1\" >87648.5569</td>\n",
       "      <td id=\"T_b0b22_row4_col2\" class=\"data row4 col2\" >12800065979.9492</td>\n",
       "      <td id=\"T_b0b22_row4_col3\" class=\"data row4 col3\" >112997.8183</td>\n",
       "      <td id=\"T_b0b22_row4_col4\" class=\"data row4 col4\" >0.6217</td>\n",
       "      <td id=\"T_b0b22_row4_col5\" class=\"data row4 col5\" >0.3244</td>\n",
       "      <td id=\"T_b0b22_row4_col6\" class=\"data row4 col6\" >0.3058</td>\n",
       "      <td id=\"T_b0b22_row4_col7\" class=\"data row4 col7\" >2.5540</td>\n",
       "    </tr>\n",
       "    <tr>\n",
       "      <th id=\"T_b0b22_level0_row5\" class=\"row_heading level0 row5\" >dt</th>\n",
       "      <td id=\"T_b0b22_row5_col0\" class=\"data row5 col0\" >Decision Tree Regressor</td>\n",
       "      <td id=\"T_b0b22_row5_col1\" class=\"data row5 col1\" >84760.4505</td>\n",
       "      <td id=\"T_b0b22_row5_col2\" class=\"data row5 col2\" >15406854405.7728</td>\n",
       "      <td id=\"T_b0b22_row5_col3\" class=\"data row5 col3\" >123711.8491</td>\n",
       "      <td id=\"T_b0b22_row5_col4\" class=\"data row5 col4\" >0.5475</td>\n",
       "      <td id=\"T_b0b22_row5_col5\" class=\"data row5 col5\" >0.3245</td>\n",
       "      <td id=\"T_b0b22_row5_col6\" class=\"data row5 col6\" >0.2564</td>\n",
       "      <td id=\"T_b0b22_row5_col7\" class=\"data row5 col7\" >0.5260</td>\n",
       "    </tr>\n",
       "    <tr>\n",
       "      <th id=\"T_b0b22_level0_row6\" class=\"row_heading level0 row6\" >en</th>\n",
       "      <td id=\"T_b0b22_row6_col0\" class=\"data row6 col0\" >Elastic Net</td>\n",
       "      <td id=\"T_b0b22_row6_col1\" class=\"data row6 col1\" >88459.5812</td>\n",
       "      <td id=\"T_b0b22_row6_col2\" class=\"data row6 col2\" >15761700659.2000</td>\n",
       "      <td id=\"T_b0b22_row6_col3\" class=\"data row6 col3\" >125029.6969</td>\n",
       "      <td id=\"T_b0b22_row6_col4\" class=\"data row6 col4\" >0.5359</td>\n",
       "      <td id=\"T_b0b22_row6_col5\" class=\"data row6 col5\" >0.4248</td>\n",
       "      <td id=\"T_b0b22_row6_col6\" class=\"data row6 col6\" >0.2974</td>\n",
       "      <td id=\"T_b0b22_row6_col7\" class=\"data row6 col7\" >0.9200</td>\n",
       "    </tr>\n",
       "    <tr>\n",
       "      <th id=\"T_b0b22_level0_row7\" class=\"row_heading level0 row7\" >knn</th>\n",
       "      <td id=\"T_b0b22_row7_col0\" class=\"data row7 col0\" >K Neighbors Regressor</td>\n",
       "      <td id=\"T_b0b22_row7_col1\" class=\"data row7 col1\" >95403.6312</td>\n",
       "      <td id=\"T_b0b22_row7_col2\" class=\"data row7 col2\" >17132496691.2000</td>\n",
       "      <td id=\"T_b0b22_row7_col3\" class=\"data row7 col3\" >130841.3312</td>\n",
       "      <td id=\"T_b0b22_row7_col4\" class=\"data row7 col4\" >0.4948</td>\n",
       "      <td id=\"T_b0b22_row7_col5\" class=\"data row7 col5\" >0.3414</td>\n",
       "      <td id=\"T_b0b22_row7_col6\" class=\"data row7 col6\" >0.2916</td>\n",
       "      <td id=\"T_b0b22_row7_col7\" class=\"data row7 col7\" >0.3320</td>\n",
       "    </tr>\n",
       "    <tr>\n",
       "      <th id=\"T_b0b22_level0_row8\" class=\"row_heading level0 row8\" >llar</th>\n",
       "      <td id=\"T_b0b22_row8_col0\" class=\"data row8 col0\" >Lasso Least Angle Regression</td>\n",
       "      <td id=\"T_b0b22_row8_col1\" class=\"data row8 col1\" >107999.6109</td>\n",
       "      <td id=\"T_b0b22_row8_col2\" class=\"data row8 col2\" >20670757273.6000</td>\n",
       "      <td id=\"T_b0b22_row8_col3\" class=\"data row8 col3\" >143647.1781</td>\n",
       "      <td id=\"T_b0b22_row8_col4\" class=\"data row8 col4\" >0.3949</td>\n",
       "      <td id=\"T_b0b22_row8_col5\" class=\"data row8 col5\" >0.3853</td>\n",
       "      <td id=\"T_b0b22_row8_col6\" class=\"data row8 col6\" >0.3309</td>\n",
       "      <td id=\"T_b0b22_row8_col7\" class=\"data row8 col7\" >0.3900</td>\n",
       "    </tr>\n",
       "    <tr>\n",
       "      <th id=\"T_b0b22_level0_row9\" class=\"row_heading level0 row9\" >br</th>\n",
       "      <td id=\"T_b0b22_row9_col0\" class=\"data row9 col0\" >Bayesian Ridge</td>\n",
       "      <td id=\"T_b0b22_row9_col1\" class=\"data row9 col1\" >108978.7484</td>\n",
       "      <td id=\"T_b0b22_row9_col2\" class=\"data row9 col2\" >20795758182.4000</td>\n",
       "      <td id=\"T_b0b22_row9_col3\" class=\"data row9 col3\" >144017.6375</td>\n",
       "      <td id=\"T_b0b22_row9_col4\" class=\"data row9 col4\" >0.3933</td>\n",
       "      <td id=\"T_b0b22_row9_col5\" class=\"data row9 col5\" >0.3748</td>\n",
       "      <td id=\"T_b0b22_row9_col6\" class=\"data row9 col6\" >0.3383</td>\n",
       "      <td id=\"T_b0b22_row9_col7\" class=\"data row9 col7\" >0.7100</td>\n",
       "    </tr>\n",
       "    <tr>\n",
       "      <th id=\"T_b0b22_level0_row10\" class=\"row_heading level0 row10\" >omp</th>\n",
       "      <td id=\"T_b0b22_row10_col0\" class=\"data row10 col0\" >Orthogonal Matching Pursuit</td>\n",
       "      <td id=\"T_b0b22_row10_col1\" class=\"data row10 col1\" >109689.9734</td>\n",
       "      <td id=\"T_b0b22_row10_col2\" class=\"data row10 col2\" >21539783065.6000</td>\n",
       "      <td id=\"T_b0b22_row10_col3\" class=\"data row10 col3\" >146351.9906</td>\n",
       "      <td id=\"T_b0b22_row10_col4\" class=\"data row10 col4\" >0.3701</td>\n",
       "      <td id=\"T_b0b22_row10_col5\" class=\"data row10 col5\" >0.3880</td>\n",
       "      <td id=\"T_b0b22_row10_col6\" class=\"data row10 col6\" >0.3336</td>\n",
       "      <td id=\"T_b0b22_row10_col7\" class=\"data row10 col7\" >0.3080</td>\n",
       "    </tr>\n",
       "    <tr>\n",
       "      <th id=\"T_b0b22_level0_row11\" class=\"row_heading level0 row11\" >ridge</th>\n",
       "      <td id=\"T_b0b22_row11_col0\" class=\"data row11 col0\" >Ridge Regression</td>\n",
       "      <td id=\"T_b0b22_row11_col1\" class=\"data row11 col1\" >111906.7047</td>\n",
       "      <td id=\"T_b0b22_row11_col2\" class=\"data row11 col2\" >21778427084.8000</td>\n",
       "      <td id=\"T_b0b22_row11_col3\" class=\"data row11 col3\" >147377.6188</td>\n",
       "      <td id=\"T_b0b22_row11_col4\" class=\"data row11 col4\" >0.3649</td>\n",
       "      <td id=\"T_b0b22_row11_col5\" class=\"data row11 col5\" >0.3989</td>\n",
       "      <td id=\"T_b0b22_row11_col6\" class=\"data row11 col6\" >0.3474</td>\n",
       "      <td id=\"T_b0b22_row11_col7\" class=\"data row11 col7\" >0.3860</td>\n",
       "    </tr>\n",
       "    <tr>\n",
       "      <th id=\"T_b0b22_level0_row12\" class=\"row_heading level0 row12\" >lasso</th>\n",
       "      <td id=\"T_b0b22_row12_col0\" class=\"data row12 col0\" >Lasso Regression</td>\n",
       "      <td id=\"T_b0b22_row12_col1\" class=\"data row12 col1\" >90977.0984</td>\n",
       "      <td id=\"T_b0b22_row12_col2\" class=\"data row12 col2\" >22325386444.8000</td>\n",
       "      <td id=\"T_b0b22_row12_col3\" class=\"data row12 col3\" >141857.0094</td>\n",
       "      <td id=\"T_b0b22_row12_col4\" class=\"data row12 col4\" >0.3540</td>\n",
       "      <td id=\"T_b0b22_row12_col5\" class=\"data row12 col5\" >0.4199</td>\n",
       "      <td id=\"T_b0b22_row12_col6\" class=\"data row12 col6\" >0.3107</td>\n",
       "      <td id=\"T_b0b22_row12_col7\" class=\"data row12 col7\" >1.1600</td>\n",
       "    </tr>\n",
       "    <tr>\n",
       "      <th id=\"T_b0b22_level0_row13\" class=\"row_heading level0 row13\" >huber</th>\n",
       "      <td id=\"T_b0b22_row13_col0\" class=\"data row13 col0\" >Huber Regressor</td>\n",
       "      <td id=\"T_b0b22_row13_col1\" class=\"data row13 col1\" >126455.0316</td>\n",
       "      <td id=\"T_b0b22_row13_col2\" class=\"data row13 col2\" >32793448617.5632</td>\n",
       "      <td id=\"T_b0b22_row13_col3\" class=\"data row13 col3\" >179658.7276</td>\n",
       "      <td id=\"T_b0b22_row13_col4\" class=\"data row13 col4\" >0.0484</td>\n",
       "      <td id=\"T_b0b22_row13_col5\" class=\"data row13 col5\" >0.4825</td>\n",
       "      <td id=\"T_b0b22_row13_col6\" class=\"data row13 col6\" >0.3583</td>\n",
       "      <td id=\"T_b0b22_row13_col7\" class=\"data row13 col7\" >2.8080</td>\n",
       "    </tr>\n",
       "    <tr>\n",
       "      <th id=\"T_b0b22_level0_row14\" class=\"row_heading level0 row14\" >dummy</th>\n",
       "      <td id=\"T_b0b22_row14_col0\" class=\"data row14 col0\" >Dummy Regressor</td>\n",
       "      <td id=\"T_b0b22_row14_col1\" class=\"data row14 col1\" >149314.8438</td>\n",
       "      <td id=\"T_b0b22_row14_col2\" class=\"data row14 col2\" >34438071091.2000</td>\n",
       "      <td id=\"T_b0b22_row14_col3\" class=\"data row14 col3\" >185386.3906</td>\n",
       "      <td id=\"T_b0b22_row14_col4\" class=\"data row14 col4\" >-0.0052</td>\n",
       "      <td id=\"T_b0b22_row14_col5\" class=\"data row14 col5\" >0.5333</td>\n",
       "      <td id=\"T_b0b22_row14_col6\" class=\"data row14 col6\" >0.5475</td>\n",
       "      <td id=\"T_b0b22_row14_col7\" class=\"data row14 col7\" >0.2520</td>\n",
       "    </tr>\n",
       "    <tr>\n",
       "      <th id=\"T_b0b22_level0_row15\" class=\"row_heading level0 row15\" >lr</th>\n",
       "      <td id=\"T_b0b22_row15_col0\" class=\"data row15 col0\" >Linear Regression</td>\n",
       "      <td id=\"T_b0b22_row15_col1\" class=\"data row15 col1\" >113366.4219</td>\n",
       "      <td id=\"T_b0b22_row15_col2\" class=\"data row15 col2\" >34800776806.4000</td>\n",
       "      <td id=\"T_b0b22_row15_col3\" class=\"data row15 col3\" >183176.5703</td>\n",
       "      <td id=\"T_b0b22_row15_col4\" class=\"data row15 col4\" >-0.0127</td>\n",
       "      <td id=\"T_b0b22_row15_col5\" class=\"data row15 col5\" >0.5559</td>\n",
       "      <td id=\"T_b0b22_row15_col6\" class=\"data row15 col6\" >0.4008</td>\n",
       "      <td id=\"T_b0b22_row15_col7\" class=\"data row15 col7\" >1.0220</td>\n",
       "    </tr>\n",
       "    <tr>\n",
       "      <th id=\"T_b0b22_level0_row16\" class=\"row_heading level0 row16\" >par</th>\n",
       "      <td id=\"T_b0b22_row16_col0\" class=\"data row16 col0\" >Passive Aggressive Regressor</td>\n",
       "      <td id=\"T_b0b22_row16_col1\" class=\"data row16 col1\" >390504.3926</td>\n",
       "      <td id=\"T_b0b22_row16_col2\" class=\"data row16 col2\" >782657877731.5419</td>\n",
       "      <td id=\"T_b0b22_row16_col3\" class=\"data row16 col3\" >721973.9656</td>\n",
       "      <td id=\"T_b0b22_row16_col4\" class=\"data row16 col4\" >-20.7477</td>\n",
       "      <td id=\"T_b0b22_row16_col5\" class=\"data row16 col5\" >0.7786</td>\n",
       "      <td id=\"T_b0b22_row16_col6\" class=\"data row16 col6\" >1.0545</td>\n",
       "      <td id=\"T_b0b22_row16_col7\" class=\"data row16 col7\" >0.3780</td>\n",
       "    </tr>\n",
       "  </tbody>\n",
       "</table>\n"
      ],
      "text/plain": [
       "<pandas.io.formats.style.Styler at 0x7f79546d0370>"
      ]
     },
     "metadata": {},
     "output_type": "display_data"
    },
    {
     "data": {
      "text/html": [],
      "text/plain": [
       "<IPython.core.display.HTML object>"
      ]
     },
     "metadata": {},
     "output_type": "display_data"
    },
    {
     "data": {
      "text/html": [
       "<div>\n",
       "<style scoped>\n",
       "    .dataframe tbody tr th:only-of-type {\n",
       "        vertical-align: middle;\n",
       "    }\n",
       "\n",
       "    .dataframe tbody tr th {\n",
       "        vertical-align: top;\n",
       "    }\n",
       "\n",
       "    .dataframe thead th {\n",
       "        text-align: right;\n",
       "    }\n",
       "</style>\n",
       "<table border=\"1\" class=\"dataframe\">\n",
       "  <thead>\n",
       "    <tr style=\"text-align: right;\">\n",
       "      <th></th>\n",
       "      <th></th>\n",
       "      <th></th>\n",
       "    </tr>\n",
       "    <tr>\n",
       "      <th></th>\n",
       "      <th></th>\n",
       "      <th></th>\n",
       "    </tr>\n",
       "  </thead>\n",
       "  <tbody>\n",
       "    <tr>\n",
       "      <th>Initiated</th>\n",
       "      <td>. . . . . . . . . . . . . . . . . .</td>\n",
       "      <td>20:28:52</td>\n",
       "    </tr>\n",
       "    <tr>\n",
       "      <th>Status</th>\n",
       "      <td>. . . . . . . . . . . . . . . . . .</td>\n",
       "      <td>Searching Hyperparameters</td>\n",
       "    </tr>\n",
       "    <tr>\n",
       "      <th>Estimator</th>\n",
       "      <td>. . . . . . . . . . . . . . . . . .</td>\n",
       "      <td>Random Forest Regressor</td>\n",
       "    </tr>\n",
       "  </tbody>\n",
       "</table>\n",
       "</div>"
      ],
      "text/plain": [
       "                                                                         \n",
       "                                                                         \n",
       "Initiated  . . . . . . . . . . . . . . . . . .                   20:28:52\n",
       "Status     . . . . . . . . . . . . . . . . . .  Searching Hyperparameters\n",
       "Estimator  . . . . . . . . . . . . . . . . . .    Random Forest Regressor"
      ]
     },
     "metadata": {},
     "output_type": "display_data"
    },
    {
     "data": {
      "text/html": [],
      "text/plain": [
       "<IPython.core.display.HTML object>"
      ]
     },
     "metadata": {},
     "output_type": "display_data"
    },
    {
     "data": {
      "application/vnd.jupyter.widget-view+json": {
       "model_id": "8f8c084fd64c475aae7d95f34e1f03c9",
       "version_major": 2,
       "version_minor": 0
      },
      "text/plain": [
       "Processing:   0%|          | 0/7 [00:00<?, ?it/s]"
      ]
     },
     "metadata": {},
     "output_type": "display_data"
    },
    {
     "name": "stdout",
     "output_type": "stream",
     "text": [
      "Fitting 5 folds for each of 10 candidates, totalling 50 fits\n"
     ]
    }
   ],
   "source": [
    "regression_setup = setup(\n",
    "    data = data_input.drop(cols_id_drop, axis = 1),\n",
    "    target = target[0], \n",
    "    verbose = False, \n",
    "    fold = 5\n",
    ")\n",
    "\n",
    "best_model = compare_models()\n",
    "tuned_model = tune_model(best_model)\n",
    "final_model = finalize_model(tuned_model)\n",
    "predictions = predict_model(final_model)\n",
    "\n",
    "evaluate_model(final_model)\n",
    "df_metrics = pull()"
   ]
  },
  {
   "cell_type": "code",
   "execution_count": null,
   "id": "6b249d2e",
   "metadata": {},
   "outputs": [],
   "source": [
    "plot_model(final_model)"
   ]
  },
  {
   "cell_type": "markdown",
   "id": "28e207a1",
   "metadata": {},
   "source": [
    "## Pipeline (encoders)"
   ]
  },
  {
   "cell_type": "code",
   "execution_count": null,
   "id": "cd9d71b5",
   "metadata": {},
   "outputs": [],
   "source": [
    "if not os.path.exists(path_encoders):\n",
    "    os.makedirs(path_encoders)\n",
    "encoders_order = []\n",
    "for encoder_name, encoder_obj in final_model.steps[:(-1)]:\n",
    "    joblib.dump(\n",
    "        encoder_obj,\n",
    "        file_path_encoder_obj.format(encoder_name)\n",
    "    )\n",
    "    encoders_order.append([encoder_name, file_path_encoder_obj.format(encoder_name)])\n",
    "encoders_order = pd.DataFrame(encoders_order, columns = [\"name\", \"url\"])\n",
    "encoders_order.to_csv(file_path_encoder_order, index = False)"
   ]
  },
  {
   "cell_type": "markdown",
   "id": "201f1e2c",
   "metadata": {},
   "source": [
    "## Pipeline (pycaret model tunned)"
   ]
  },
  {
   "cell_type": "code",
   "execution_count": null,
   "id": "e9aa3aac",
   "metadata": {},
   "outputs": [],
   "source": [
    "for model_name, model_obj in [final_model.steps[(-1)]]:\n",
    "    joblib.dump(\n",
    "        model_obj,\n",
    "        file_path_pycared_model.format(model_name)\n",
    "    )"
   ]
  }
 ],
 "metadata": {
  "kernelspec": {
   "display_name": "Python 3 (ipykernel)",
   "language": "python",
   "name": "python3"
  },
  "language_info": {
   "codemirror_mode": {
    "name": "ipython",
    "version": 3
   },
   "file_extension": ".py",
   "mimetype": "text/x-python",
   "name": "python",
   "nbconvert_exporter": "python",
   "pygments_lexer": "ipython3",
   "version": "3.10.6"
  }
 },
 "nbformat": 4,
 "nbformat_minor": 5
}
