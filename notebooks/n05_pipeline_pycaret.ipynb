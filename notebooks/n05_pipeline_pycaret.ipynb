{
 "cells": [
  {
   "cell_type": "markdown",
   "id": "370293e7",
   "metadata": {},
   "source": [
    "## Imports"
   ]
  },
  {
   "cell_type": "code",
   "execution_count": null,
   "id": "93cd757a",
   "metadata": {},
   "outputs": [],
   "source": [
    "# basics\n",
    "import pandas as pd\n",
    "import numpy as np\n",
    "import json\n",
    "from tqdm import tqdm\n",
    "import warnings\n",
    "import joblib\n",
    "\n",
    "# feature_importance\n",
    "import shap\n",
    "\n",
    "# viz\n",
    "import matplotlib.pyplot as plt\n",
    "\n",
    "# models\n",
    "from pycaret.regression import *\n",
    "from sklearn.ensemble import RandomForestRegressor\n",
    "from sklearn.model_selection import (\n",
    "    train_test_split,\n",
    "    GridSearchCV,\n",
    "    StratifiedKFold\n",
    ")\n",
    "from sklearn.model_selection import StratifiedKFold\n",
    "\n",
    "# metrics\n",
    "from sklearn.metrics import (\n",
    "    r2_score,\n",
    "    mean_absolute_percentage_error,\n",
    "    mean_squared_error,\n",
    "    median_absolute_error,\n",
    "    mean_absolute_error,\n",
    "    median_absolute_error,\n",
    "    make_scorer\n",
    ")\n",
    "\n",
    "# utils\n",
    "import os"
   ]
  },
  {
   "cell_type": "markdown",
   "id": "bfaae5ba",
   "metadata": {},
   "source": [
    "## Parameters"
   ]
  },
  {
   "cell_type": "code",
   "execution_count": null,
   "id": "b98613d5",
   "metadata": {},
   "outputs": [],
   "source": [
    "path_root = os.path.join(\"..\",\"data\")\n",
    "\n",
    "path_primary = os.path.join(\n",
    "    path_root, \"03_primary\"\n",
    ")\n",
    "path_model = os.path.join(\n",
    "    path_root, \"04_model\"\n",
    ")\n",
    "path_encoders = os.path.join(\n",
    "    path_model, \"encoders\"\n",
    ")\n",
    "path_model_final = os.path.join(\n",
    "    path_model, \"model\"\n",
    ")\n",
    "\n",
    "file_path_input_data = os.path.join(\n",
    "    path_primary, \"data_input.csv\"\n",
    ")\n",
    "\n",
    "file_path_metrics_features_test = os.path.join(\n",
    "    path_primary, \"features_test_metrics.json\"\n",
    ")\n",
    "file_path_metrics_features_selected = os.path.join(\n",
    "    path_primary, \"features_selected.json\"\n",
    ")\n",
    "file_path_best_params = os.path.join(\n",
    "    path_model, \"best_params.json\"\n",
    ")\n",
    "file_path_encoder_order = os.path.join(\n",
    "    path_encoders, \"encoders_orders.csv\"\n",
    ")\n",
    "file_path_not_outliers = os.path.join(\n",
    "    path_primary, \"data_not_outliers.csv\"\n",
    ")"
   ]
  },
  {
   "cell_type": "markdown",
   "id": "531b075c",
   "metadata": {},
   "source": [
    "## Read content"
   ]
  },
  {
   "cell_type": "code",
   "execution_count": null,
   "id": "42cac7b5",
   "metadata": {},
   "outputs": [],
   "source": [
    "data_input = pd.read_csv(\n",
    "    file_path_input_data, # file_path_input_data, file_path_not_outliers\n",
    "    index_col = 0\n",
    ")"
   ]
  },
  {
   "cell_type": "code",
   "execution_count": null,
   "id": "cb4dcca7",
   "metadata": {},
   "outputs": [],
   "source": [
    "encoders_order = pd.read_csv(\n",
    "    file_path_encoder_order\n",
    ")"
   ]
  },
  {
   "cell_type": "code",
   "execution_count": null,
   "id": "ff746ff2",
   "metadata": {},
   "outputs": [],
   "source": [
    "# read encoders\n",
    "encoders = {}\n",
    "for encoder_content in encoders_order.values:\n",
    "    encoder_name, encoder_url = encoder_content\n",
    "    encoders[encoder_name.split(\".\")[0]] = joblib.load(\n",
    "        encoder_url\n",
    "    )"
   ]
  },
  {
   "cell_type": "code",
   "execution_count": null,
   "id": "506731ca",
   "metadata": {},
   "outputs": [],
   "source": [
    "# read model pycaret\n",
    "model = {}\n",
    "for model_name in os.listdir(path_model_final):\n",
    "    model[model_name.split(\".\")[0]] = joblib.load(\n",
    "        os.path.join(\n",
    "            path_model_final,\n",
    "            model_name\n",
    "        )\n",
    "    )"
   ]
  },
  {
   "cell_type": "code",
   "execution_count": null,
   "id": "d766f4c7",
   "metadata": {},
   "outputs": [],
   "source": [
    "if os.path.exists(file_path_best_params):\n",
    "    with open(file_path_best_params, 'r') as json_file:\n",
    "        best_params = json.load(json_file)\n",
    "    best_params = best_params[\"params\"]\n",
    "else:\n",
    "    best_params = {\n",
    "        \"random_state\": 42\n",
    "    }"
   ]
  },
  {
   "cell_type": "code",
   "execution_count": null,
   "id": "6bee26e4",
   "metadata": {},
   "outputs": [],
   "source": [
    "estimator = model[\"actual_estimator\"]"
   ]
  },
  {
   "cell_type": "markdown",
   "id": "a27a24b6",
   "metadata": {},
   "source": [
    "## Train test and split"
   ]
  },
  {
   "cell_type": "code",
   "execution_count": null,
   "id": "fc8e636c",
   "metadata": {},
   "outputs": [],
   "source": [
    "target = [\n",
    "    \"price\"\n",
    "]\n",
    "cd_setor_drop = [\n",
    "    \"cd_setor\",\n",
    "]\n",
    "id_drop = [\n",
    "    \"ID\"\n",
    "]\n",
    "cols_drop = cd_setor_drop + target"
   ]
  },
  {
   "cell_type": "code",
   "execution_count": null,
   "id": "a4927df8",
   "metadata": {},
   "outputs": [],
   "source": [
    "X = data_input.drop(cols_drop, axis = 1)\n",
    "\n",
    "y = data_input[id_drop + target]"
   ]
  },
  {
   "cell_type": "code",
   "execution_count": null,
   "id": "03b3d11a",
   "metadata": {},
   "outputs": [],
   "source": [
    "X_train, X_test, y_train, y_test = train_test_split(X,\n",
    "                                                    y, \n",
    "                                                    test_size = 0.2,\n",
    "                                                    random_state = best_params[\"random_state\"])"
   ]
  },
  {
   "cell_type": "markdown",
   "id": "16aedaa4",
   "metadata": {},
   "source": [
    "## Encoders process"
   ]
  },
  {
   "cell_type": "code",
   "execution_count": null,
   "id": "17a50654",
   "metadata": {},
   "outputs": [],
   "source": [
    "encoded_data = {\n",
    "    \"train\": X_train.copy(),\n",
    "    \"test\": X_test.copy()\n",
    "}\n",
    "for encoder_name, encoder_content in encoders.items():\n",
    "    print(\"--- encoder: [{}]\".format(encoder_name))\n",
    "    for type_name, data_to_encoder in encoded_data.items():\n",
    "        id_row = data_to_encoder[id_drop[0]].values\n",
    "        data_to_encoder.drop(id_drop[0], axis = 1, inplace = True)\n",
    "        encoded_data[type_name] = encoder_content.transform(data_to_encoder)\n",
    "        encoded_data[type_name].insert(0, id_drop[0], id_row)"
   ]
  },
  {
   "cell_type": "markdown",
   "id": "218e04bc",
   "metadata": {},
   "source": [
    "## Predict model"
   ]
  },
  {
   "cell_type": "code",
   "execution_count": null,
   "id": "8231c6bd",
   "metadata": {},
   "outputs": [],
   "source": [
    "estimator.fit(\n",
    "    X_train.drop(id_drop, axis = 1),\n",
    "    y_train.drop(id_drop, axis = 1)\n",
    ")"
   ]
  },
  {
   "cell_type": "markdown",
   "id": "cb0b586e",
   "metadata": {},
   "source": [
    "## Metrics"
   ]
  },
  {
   "cell_type": "code",
   "execution_count": null,
   "id": "7e1ad0ab",
   "metadata": {},
   "outputs": [],
   "source": [
    "args_train = [\n",
    "    y_train.drop(id_drop, axis  = 1).T.values[0],\n",
    "    estimator.predict(X_train.drop(id_drop, axis  = 1))\n",
    "]\n",
    "args_preds = [\n",
    "    y_test.drop(id_drop, axis  = 1).T.values[0],\n",
    "    estimator.predict(X_test.drop(id_drop, axis  = 1))\n",
    "]\n",
    "basics_metrics = {\n",
    "        \"r2\": r2_score,\n",
    "        \"rmse\": mean_squared_error,\n",
    "        \"mape\": mean_absolute_percentage_error,\n",
    "        \"mse\": mean_squared_error,\n",
    "        \"mae\": mean_absolute_error,\n",
    "        \"median_ae\": median_absolute_error\n",
    "}\n",
    "metrics_train = {\n",
    "        \"correlation\": np.corrcoef(\n",
    "            *args_train\n",
    "        )[0,1],\n",
    "        \"size_train\": len(args_train[0])\n",
    "}\n",
    "\n",
    "metrics_pred = {\n",
    "        \"correlation\": np.corrcoef(\n",
    "            *args_preds\n",
    "        )[0,1],\n",
    "        \"size_test\": len(args_preds[0])\n",
    "}\n",
    "\n",
    "for name, content in basics_metrics.items():\n",
    "    if name != \"rmse\":\n",
    "        metrics_train[name] = content(*args_train)\n",
    "        metrics_pred[name] = content(*args_preds)\n",
    "    else:\n",
    "        metrics_train[name] = np.sqrt(content(*args_train))\n",
    "        metrics_pred[name] = np.sqrt(content(*args_preds))\n",
    "\n",
    "metrics_results = {}\n",
    "for me in [[\"train\",metrics_train], [\"test\", metrics_pred]]:\n",
    "    print(f'-------- [ {me[0]} ] ----------')\n",
    "    for metric, result in me[1].items():\n",
    "        print(f\"{metric} : {round(result, 4)}\")\n",
    "    metrics_results[me[0]] = me[1]"
   ]
  },
  {
   "cell_type": "code",
   "execution_count": null,
   "id": "8a827e2a",
   "metadata": {},
   "outputs": [],
   "source": [
    "data_values = {}\n",
    "for content_all in zip(\n",
    "    ['train', 'test'],\n",
    "    [X_train[id_drop[0]].values, X_test[id_drop[0]].values],\n",
    "    [args_train, args_preds]\n",
    "):\n",
    "    name, id_col, arg = content_all\n",
    "    content = pd.DataFrame(arg, \n",
    "                              index = [\"y_true\", \"y_pred\"]).T\n",
    "    content.insert(0, id_drop[0], id_col)\n",
    "    content = content.sort_values(\"y_true\", ascending = False)\n",
    "    content[\"rank_true\"] = (\n",
    "        content\n",
    "        .sort_values(\"y_true\", ascending = False)\n",
    "        .reset_index(drop=True)\n",
    "        .index\n",
    "    )\n",
    "    content = content.sort_values(\"y_pred\", ascending = False)\n",
    "    content[\"rank_pred\"] = (\n",
    "        content\n",
    "        .sort_values(\"y_pred\", ascending = False)\n",
    "        .reset_index(drop=True)\n",
    "        .index\n",
    "    )\n",
    "    content = content.sample(frac=1).reset_index(drop = True)\n",
    "    data_values[name] = content"
   ]
  },
  {
   "cell_type": "markdown",
   "id": "93e4703b",
   "metadata": {},
   "source": [
    "## Cross validation"
   ]
  },
  {
   "cell_type": "code",
   "execution_count": null,
   "id": "a8d50955",
   "metadata": {},
   "outputs": [],
   "source": [
    "n_folds = 5\n",
    "stratified_kfold = StratifiedKFold(\n",
    "    n_splits = n_folds, \n",
    "    shuffle = True,\n",
    "    random_state = best_params[\"random_state\"]\n",
    ")\n",
    "\n",
    "scores = {\n",
    "    \"rmse\": [mean_squared_error, []],\n",
    "    \"r2\": [r2_score, []],\n",
    "    \"mape\": [mean_absolute_percentage_error, []],\n",
    "    \"mse\": [mean_squared_error, []],\n",
    "    \"median_ae\": [median_absolute_error, []],\n",
    "    \"mae\": [mean_absolute_error, []],\n",
    "    \"mae\": [median_absolute_error, []]\n",
    "}\n",
    "score_validation = []\n",
    "_X = X.drop(id_drop, axis = 1).copy()\n",
    "_y = y.drop(id_drop, axis = 1).copy()\n",
    "for train_index, test_index in tqdm(\n",
    "    stratified_kfold.split(\n",
    "        _X,\n",
    "        _y\n",
    "    )\n",
    "):\n",
    "\n",
    "    X_cv_train, X_cv_test = _X.values[train_index], _X.values[test_index]\n",
    "    y_cv_train, y_cv_test = _y.values[train_index], _y.values[test_index]\n",
    "\n",
    "    estimator.fit(X_cv_train, y_cv_train)\n",
    "\n",
    "    y_cv_pred = estimator.predict(X_cv_test)\n",
    "\n",
    "    args = [y_cv_test, y_cv_pred]\n",
    "    for i, content in scores.items():\n",
    "        if i == \"rmse\":\n",
    "            content[1].append(\n",
    "                np.sqrt(content[0](*args))\n",
    "            )\n",
    "        else:\n",
    "            content[1].append(\n",
    "                content[0](*args)\n",
    "            )\n",
    "            \n",
    "for i, content in scores.items():\n",
    "    text_mean = f\"{i}: {round(np.mean(content[1]), 5)}\"\n",
    "    text_std = f\"{i}_std: {round(np.std(content[1]), 5)}\"\n",
    "    print(\"-\" * max((len(text_mean), len(text_std))))\n",
    "    print(text_mean)\n",
    "    print(text_std)\n",
    "    print(\"-\" * max((len(text_mean), len(text_std))))"
   ]
  },
  {
   "cell_type": "markdown",
   "id": "5740ae7e",
   "metadata": {},
   "source": [
    "## Feature importances"
   ]
  },
  {
   "cell_type": "code",
   "execution_count": null,
   "id": "b4ccc443",
   "metadata": {},
   "outputs": [],
   "source": [
    "feature_importances  = pd.DataFrame(\n",
    "    estimator.feature_importances_,\n",
    "    index = X_train.drop(id_drop, axis = 1).columns,\n",
    "    columns = [\"fe\"]\n",
    ").sort_values(\"fe\", ascending = False)\n",
    "feature_importances[\"coefs_transform\"] = (\n",
    "    feature_importances/np.sum(feature_importances[\"fe\"])\n",
    ")\n",
    "feature_importances = (\n",
    "    feature_importances\n",
    "    .reset_index()\n",
    "    .rename(columns = {\"index\": \"features\"})\n",
    ")"
   ]
  },
  {
   "cell_type": "code",
   "execution_count": null,
   "id": "9c8a1a3b",
   "metadata": {},
   "outputs": [],
   "source": [
    "explainer = shap.Explainer(estimator)\n",
    "shap_values = explainer.shap_values(X_test.drop(id_drop, axis = 1))\n",
    "shap.summary_plot(shap_values,\n",
    "                  X_test.drop(id_drop, axis = 1),\n",
    "                  plot_type=\"violin\",\n",
    "                  color_bar=False, show=False)\n",
    "plt.colorbar(label='SHAP Value')\n",
    "\n",
    "plt.show()"
   ]
  },
  {
   "cell_type": "code",
   "execution_count": null,
   "id": "c67c66b7",
   "metadata": {},
   "outputs": [],
   "source": [
    "k = 10\n",
    "fig, axes = plt.subplots(1, 1, figsize = (12, 8))\n",
    "axes.plot(\n",
    "    range(len(feature_importances.head(k).coefs_transform)),\n",
    "    feature_importances.head(k).coefs_transform,\n",
    "    \"*\", \n",
    "    c = \"black\"\n",
    ")\n",
    "\n",
    "for (i, row), x in zip(feature_importances.head(k).iterrows(),\n",
    "                       range(len(feature_importances.head(k).coefs_transform))):\n",
    "    axes.annotate(row['features'], \n",
    "                  xy = (x, row['coefs_transform']), ha='center', va='bottom')\n",
    "    axes.grid()\n",
    "plt.show()"
   ]
  },
  {
   "cell_type": "markdown",
   "id": "4db0a2be",
   "metadata": {},
   "source": [
    "## Plots"
   ]
  },
  {
   "cell_type": "code",
   "execution_count": null,
   "id": "06464950",
   "metadata": {},
   "outputs": [],
   "source": [
    "fig, axes = plt.subplots(1, 2, figsize=(20, 8))\n",
    "\n",
    "for (idx, (name, content)), metric_content in zip(enumerate(data_values.items()), metrics_results.values()):\n",
    "    ax = axes[idx]\n",
    "    ax.plot(content[\"y_true\"], content[\"y_true\"], 'r', linewidth=2, linestyle='dashed')\n",
    "    ax.plot(content[\"y_true\"], content[\"y_pred\"], '*')\n",
    "    ax.grid()\n",
    "    ax.set_title(name.title() + r\" | $R^{2}$ = \" + \"{:.5}\".format(metric_content[\"r2\"]))\n",
    "    ax.set_xlabel(f\"True {target[0]}\")\n",
    "    ax.set_ylabel(f\"Predict {target[0]}\")\n",
    "    \n",
    "    ax.grid()\n",
    "\n",
    "plt.show()\n"
   ]
  },
  {
   "cell_type": "code",
   "execution_count": null,
   "id": "bd56a726",
   "metadata": {},
   "outputs": [],
   "source": [
    "fig, axes = plt.subplots(1, 2, figsize =  (18,8))\n",
    "\n",
    "for (name, content), ax in zip(data_values.items(), axes):\n",
    "    ax.plot(data_values[name]['y_true'].values, label = \"true\")\n",
    "    ax.plot(data_values[name]['y_pred'].values, label = \"pred\")\n",
    "    ax.set_title(name.title() + r\" | $\\rho$ = \" + \"{:.5}\".format(np.corrcoef(\n",
    "        data_values[name]['y_true'].values, \n",
    "        data_values[name]['y_pred'].values)[0,1])\n",
    "    ) \n",
    "plt.legend()"
   ]
  },
  {
   "cell_type": "code",
   "execution_count": null,
   "id": "0ea77fe0",
   "metadata": {},
   "outputs": [],
   "source": []
  }
 ],
 "metadata": {
  "kernelspec": {
   "display_name": "Python 3 (ipykernel)",
   "language": "python",
   "name": "python3"
  },
  "language_info": {
   "codemirror_mode": {
    "name": "ipython",
    "version": 3
   },
   "file_extension": ".py",
   "mimetype": "text/x-python",
   "name": "python",
   "nbconvert_exporter": "python",
   "pygments_lexer": "ipython3",
   "version": "3.10.6"
  }
 },
 "nbformat": 4,
 "nbformat_minor": 5
}
