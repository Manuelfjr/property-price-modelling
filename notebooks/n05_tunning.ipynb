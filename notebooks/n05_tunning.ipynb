{
 "cells": [
  {
   "cell_type": "markdown",
   "id": "b02169a4",
   "metadata": {},
   "source": [
    "## Imports"
   ]
  },
  {
   "cell_type": "code",
   "execution_count": null,
   "id": "7f732938",
   "metadata": {},
   "outputs": [],
   "source": [
    "import sys\n",
    "from pathlib import Path\n",
    "PROJECT_DIR = Path.cwd().parent\n",
    "sys.path.append(str(PROJECT_DIR))\n",
    "\n",
    "# basics\n",
    "import pandas as pd\n",
    "import numpy as np\n",
    "import json\n",
    "import joblib\n",
    "\n",
    "# models\n",
    "from pycaret.regression import *\n",
    "from sklearn.ensemble import RandomForestRegressor\n",
    "from sklearn.model_selection import (\n",
    "    train_test_split\n",
    ")\n",
    "from sklearn.metrics import (\n",
    "    make_scorer,\n",
    "    mean_squared_error\n",
    ")\n",
    "\n",
    "# utils\n",
    "import os\n",
    "from ppm.nodes.metrics_calculator import (\n",
    "    metrics_calculate,\n",
    "    show_results\n",
    ")\n",
    "from ppm.nodes.process_outputs import (\n",
    "    ranking_output\n",
    ")\n",
    "from ppm.nodes.cross_validation import (\n",
    "    cross_validation\n",
    ")\n",
    "from ppm.nodes.tunning_model import (\n",
    "    perform_grid_search\n",
    ")\n",
    "from ppm.nodes.plots import (\n",
    "    scatterplot_yx\n",
    ")"
   ]
  },
  {
   "cell_type": "markdown",
   "id": "d8362cd3",
   "metadata": {},
   "source": [
    "## Parameters"
   ]
  },
  {
   "cell_type": "code",
   "execution_count": null,
   "id": "9e2a4288",
   "metadata": {},
   "outputs": [],
   "source": [
    "path_root = os.path.join(\"..\",\"data\")\n",
    "\n",
    "path_primary = os.path.join(\n",
    "    path_root, \"03_primary\"\n",
    ")\n",
    "path_model = os.path.join(\n",
    "    path_root, \"04_model\"\n",
    ")\n",
    "path_encoders = os.path.join(\n",
    "    path_model, \"encoders\"\n",
    ")\n",
    "path_model_final = os.path.join(\n",
    "    path_model, \"model\"\n",
    ")\n",
    "\n",
    "file_path_metrics_features_selected = os.path.join(\n",
    "    path_primary, \"features_selected.json\"\n",
    ")\n",
    "file_path_best_params = os.path.join(\n",
    "    path_model, \"best_params.json\"\n",
    ")\n",
    "file_path_best_model = os.path.join(\n",
    "    path_model, \"model_tunned.joblib\"\n",
    ")\n",
    "file_path_not_outliers = os.path.join(\n",
    "    path_primary, \"data_not_outliers.csv\"\n",
    ")\n",
    "file_path_encoder_obj = os.path.join(\n",
    "    path_encoders, \"{}_encoder.joblib\"\n",
    ")\n",
    "file_path_encoder_order = os.path.join(\n",
    "    path_encoders, \"encoders_orders.csv\"\n",
    ")\n",
    "file_path_pycared_model = os.path.join(\n",
    "    path_model_final, \"{}.joblib\"\n",
    ")"
   ]
  },
  {
   "cell_type": "code",
   "execution_count": null,
   "id": "0b49b4d2",
   "metadata": {},
   "outputs": [],
   "source": [
    "target = [\n",
    "    \"price\"\n",
    "]\n",
    "cols_id_drop = [\n",
    "    \"cd_setor\",\n",
    "    \"ID\"\n",
    "]\n",
    "cols_drop = cols_id_drop + target"
   ]
  },
  {
   "cell_type": "markdown",
   "id": "7efdba05",
   "metadata": {},
   "source": [
    "## Read dataset"
   ]
  },
  {
   "cell_type": "code",
   "execution_count": null,
   "id": "9fca8f70",
   "metadata": {},
   "outputs": [],
   "source": [
    "data_input = pd.read_csv(\n",
    "    file_path_not_outliers, \n",
    "    index_col = 0\n",
    ")"
   ]
  },
  {
   "cell_type": "code",
   "execution_count": null,
   "id": "306d96e8",
   "metadata": {},
   "outputs": [],
   "source": [
    "if os.path.exists(file_path_metrics_features_selected):\n",
    "    with open(file_path_metrics_features_selected, 'r') as json_file:\n",
    "        features_selected = json.load(json_file)\n",
    "    features_selected = features_selected[\"selected_features\"]"
   ]
  },
  {
   "cell_type": "code",
   "execution_count": null,
   "id": "9d00b166",
   "metadata": {},
   "outputs": [],
   "source": [
    "if os.path.exists(file_path_best_params):\n",
    "    with open(file_path_best_params, 'r') as json_file:\n",
    "        best_params = json.load(json_file)\n",
    "    best_params = best_params[\"params\"]\n",
    "else:\n",
    "    best_params = {\n",
    "        \"random_state\": 42\n",
    "    }"
   ]
  },
  {
   "cell_type": "markdown",
   "id": "154b59ff",
   "metadata": {},
   "source": [
    "## Split data"
   ]
  },
  {
   "cell_type": "code",
   "execution_count": null,
   "id": "a69d7d32",
   "metadata": {},
   "outputs": [],
   "source": [
    "X = data_input[features_selected].copy()\n",
    "y = data_input[target].copy()"
   ]
  },
  {
   "cell_type": "markdown",
   "id": "85aec7ff",
   "metadata": {},
   "source": [
    "## Tunning"
   ]
  },
  {
   "cell_type": "code",
   "execution_count": null,
   "id": "90f93d80",
   "metadata": {
    "scrolled": true
   },
   "outputs": [],
   "source": [
    "parameters = {\n",
    "    'n_estimators': [50, 100, 150],\n",
    "    'max_depth': [None, 2, 3],\n",
    "    'min_samples_split': [2, 4],\n",
    "    'min_samples_leaf': [1, 2, 3],\n",
    "    'max_features': ['auto'],\n",
    "    \"random_state\": [42]\n",
    "}\n",
    "\n",
    "rf = RandomForestRegressor()\n",
    "\n",
    "scorer = make_scorer(\n",
    "    mean_squared_error,\n",
    "    greater_is_better = False\n",
    ")\n",
    "best_model, best_params = perform_grid_search(\n",
    "    X.values,\n",
    "    y[target[0]].values,\n",
    "    [rf],\n",
    "    parameters,\n",
    "    scorer,\n",
    "    cv = 5\n",
    ")"
   ]
  },
  {
   "cell_type": "code",
   "execution_count": null,
   "id": "f474eba4",
   "metadata": {},
   "outputs": [],
   "source": [
    "best_model_params = {\n",
    "    \"params\": best_params\n",
    "}"
   ]
  },
  {
   "cell_type": "code",
   "execution_count": null,
   "id": "d5bfbf71",
   "metadata": {},
   "outputs": [],
   "source": [
    "with open(file_path_best_params, 'w') as json_file:\n",
    "    json.dump(\n",
    "        best_model_params, \n",
    "        json_file\n",
    "    )"
   ]
  },
  {
   "cell_type": "code",
   "execution_count": null,
   "id": "8a5c849f",
   "metadata": {},
   "outputs": [],
   "source": [
    "joblib.dump(\n",
    "    best_model, \n",
    "    file_path_best_model\n",
    ")"
   ]
  },
  {
   "cell_type": "markdown",
   "id": "90bf4308",
   "metadata": {},
   "source": [
    "## Select best model (pycaret)"
   ]
  },
  {
   "cell_type": "code",
   "execution_count": null,
   "id": "f1e1d82b",
   "metadata": {},
   "outputs": [],
   "source": [
    "X = data_input[target + features_selected].copy()"
   ]
  },
  {
   "cell_type": "code",
   "execution_count": null,
   "id": "c9de9f57",
   "metadata": {
    "scrolled": true
   },
   "outputs": [],
   "source": [
    "regression_setup = setup(\n",
    "    data = X,\n",
    "    target = target[0], \n",
    "    verbose = False, \n",
    "    fold = 5\n",
    ")\n",
    "\n",
    "best_model = compare_models()\n",
    "tuned_model = tune_model(best_model)\n",
    "final_model = finalize_model(tuned_model)\n",
    "predictions = predict_model(final_model)\n",
    "\n",
    "evaluate_model(final_model)\n",
    "df_metrics = pull()"
   ]
  },
  {
   "cell_type": "code",
   "execution_count": null,
   "id": "6b249d2e",
   "metadata": {},
   "outputs": [],
   "source": [
    "plot_model(final_model)"
   ]
  },
  {
   "cell_type": "markdown",
   "id": "28e207a1",
   "metadata": {},
   "source": [
    "## Pipeline (encoders)"
   ]
  },
  {
   "cell_type": "code",
   "execution_count": null,
   "id": "391d102b",
   "metadata": {},
   "outputs": [],
   "source": [
    "if not os.path.exists(path_encoders):\n",
    "    os.makedirs(path_encoders)"
   ]
  },
  {
   "cell_type": "code",
   "execution_count": null,
   "id": "cd9d71b5",
   "metadata": {},
   "outputs": [],
   "source": [
    "encoders_order = []\n",
    "for encoder_name, encoder_obj in final_model.steps[:(-1)]:\n",
    "    joblib.dump(\n",
    "        encoder_obj,\n",
    "        file_path_encoder_obj.format(encoder_name)\n",
    "    )\n",
    "    encoders_order.append([encoder_name, file_path_encoder_obj.format(encoder_name)])\n",
    "encoders_order = pd.DataFrame(encoders_order, columns = [\"name\", \"url\"])\n",
    "encoders_order.to_csv(file_path_encoder_order, index = False)"
   ]
  },
  {
   "cell_type": "markdown",
   "id": "201f1e2c",
   "metadata": {},
   "source": [
    "## Pipeline (pycaret model tunned)"
   ]
  },
  {
   "cell_type": "code",
   "execution_count": null,
   "id": "e9aa3aac",
   "metadata": {},
   "outputs": [],
   "source": [
    "for model_name, model_obj in [final_model.steps[(-1)]]:\n",
    "    joblib.dump(\n",
    "        model_obj,\n",
    "        file_path_pycared_model.format(model_name)\n",
    "    )"
   ]
  }
 ],
 "metadata": {
  "kernelspec": {
   "display_name": "Python 3 (ipykernel)",
   "language": "python",
   "name": "python3"
  },
  "language_info": {
   "codemirror_mode": {
    "name": "ipython",
    "version": 3
   },
   "file_extension": ".py",
   "mimetype": "text/x-python",
   "name": "python",
   "nbconvert_exporter": "python",
   "pygments_lexer": "ipython3",
   "version": "3.10.6"
  }
 },
 "nbformat": 4,
 "nbformat_minor": 5
}
