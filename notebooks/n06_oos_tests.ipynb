{
 "cells": [
  {
   "cell_type": "markdown",
   "id": "cf8abfdc",
   "metadata": {},
   "source": [
    "## Imports"
   ]
  },
  {
   "cell_type": "code",
   "execution_count": null,
   "id": "1c07597f",
   "metadata": {},
   "outputs": [],
   "source": [
    "# basics\n",
    "import numpy as np\n",
    "import pandas as pd\n",
    "import joblib\n",
    "import shap\n",
    "\n",
    "# model\n",
    "from sklearn.decomposition import PCA\n",
    "from sklearn.metrics import (\n",
    "    r2_score,\n",
    "    mean_absolute_percentage_error,\n",
    "    mean_squared_error,\n",
    "    median_absolute_error,\n",
    "    mean_absolute_error,\n",
    "    median_absolute_error\n",
    ")\n",
    "\n",
    "# viz\n",
    "import matplotlib.pyplot as plt\n",
    "import seaborn as sns\n",
    "\n",
    "# utils\n",
    "import os\n",
    "from tqdm import tqdm"
   ]
  },
  {
   "cell_type": "markdown",
   "id": "db8c482e",
   "metadata": {},
   "source": [
    "## Parameters"
   ]
  },
  {
   "cell_type": "code",
   "execution_count": null,
   "id": "39d5f6c4",
   "metadata": {},
   "outputs": [],
   "source": [
    "n_samples_oos = 2"
   ]
  },
  {
   "cell_type": "code",
   "execution_count": null,
   "id": "cab0916b",
   "metadata": {},
   "outputs": [],
   "source": [
    "path_root_oos = os.path.join(\n",
    "    '..', 'oos', # data or oos\n",
    ")\n",
    "path_root_data = os.path.join(\n",
    "    \"..\",\"data\"\n",
    ")\n",
    "path_primary = os.path.join(\n",
    "    path_root_oos, \"03_primary\"\n",
    ")\n",
    "path_model = os.path.join(\n",
    "    path_root_data, \"04_model\"\n",
    ")\n",
    "path_encoders = os.path.join(\n",
    "    path_model, \"encoders\"\n",
    ")\n",
    "path_model_final = os.path.join(\n",
    "    path_model, \"model\"\n",
    ")\n",
    "\n",
    "\n",
    "file_path_input_data = os.path.join(\n",
    "    path_primary, \"data_input.csv\"\n",
    ")\n",
    "file_path_encoder_order = os.path.join(\n",
    "    path_encoders, \"encoders_orders.csv\"\n",
    ")"
   ]
  },
  {
   "cell_type": "markdown",
   "id": "bd49ad52",
   "metadata": {},
   "source": [
    "## Read"
   ]
  },
  {
   "cell_type": "code",
   "execution_count": null,
   "id": "bff106ef",
   "metadata": {},
   "outputs": [],
   "source": [
    "encoders_order = pd.read_csv(file_path_encoder_order)"
   ]
  },
  {
   "cell_type": "code",
   "execution_count": null,
   "id": "f84ca6ac",
   "metadata": {},
   "outputs": [],
   "source": [
    "# read model pycaret\n",
    "model = {}\n",
    "for model_name in os.listdir(path_model_final):\n",
    "    model[model_name.split(\".\")[0]] = joblib.load(\n",
    "        os.path.join(\n",
    "            path_model_final,\n",
    "            model_name\n",
    "        )\n",
    "    )\n",
    "estimator = model[\"actual_estimator\"]"
   ]
  },
  {
   "cell_type": "code",
   "execution_count": null,
   "id": "f9d23658",
   "metadata": {},
   "outputs": [],
   "source": [
    "# read encoders\n",
    "encoders = {}\n",
    "for encoder_content in encoders_order.values:\n",
    "    encoder_name, encoder_url = encoder_content\n",
    "    encoders[encoder_name.split(\".\")[0]] = joblib.load(\n",
    "        encoder_url\n",
    "    )"
   ]
  },
  {
   "cell_type": "code",
   "execution_count": null,
   "id": "50bdfb15",
   "metadata": {},
   "outputs": [],
   "source": [
    "data_input = pd.read_csv(\n",
    "    file_path_input_data, # file_path_input_data, file_path_not_outliers\n",
    "    index_col = 0\n",
    ").head(n_samples_oos)"
   ]
  },
  {
   "cell_type": "markdown",
   "id": "abf14575",
   "metadata": {},
   "source": [
    "## Filter columns"
   ]
  },
  {
   "cell_type": "code",
   "execution_count": null,
   "id": "93ba328c",
   "metadata": {},
   "outputs": [],
   "source": [
    "target = [\n",
    "    \"price\"\n",
    "]\n",
    "cd_setor_drop = [\n",
    "    \"cd_setor\",\n",
    "]\n",
    "id_drop = [\n",
    "    \"ID\"\n",
    "]\n",
    "cols_drop = cd_setor_drop + target"
   ]
  },
  {
   "cell_type": "code",
   "execution_count": null,
   "id": "5eaabaae",
   "metadata": {},
   "outputs": [],
   "source": [
    "X = data_input.drop(cols_drop, axis = 1)\n",
    "\n",
    "y = data_input[id_drop + target]"
   ]
  },
  {
   "cell_type": "markdown",
   "id": "3c96a602",
   "metadata": {},
   "source": [
    "## Encoder process"
   ]
  },
  {
   "cell_type": "code",
   "execution_count": null,
   "id": "2a863e76",
   "metadata": {
    "scrolled": true
   },
   "outputs": [],
   "source": [
    "encoded_data = {\n",
    "    \"oos\": X.copy()\n",
    "}\n",
    "for encoder_name, encoder_content in encoders.items():\n",
    "    print(\"--- encoder: [{}]\".format(encoder_name))\n",
    "    for type_name, data_to_encoder in encoded_data.items():\n",
    "        \n",
    "        id_row = data_to_encoder[id_drop[0]].values\n",
    "        data_to_encoder.drop(id_drop[0], axis = 1, inplace = True)\n",
    "        encoded_data[type_name] = encoder_content.transform(data_to_encoder)\n",
    "        encoded_data[type_name].insert(0, id_drop[0], id_row)"
   ]
  },
  {
   "cell_type": "markdown",
   "id": "12b2178b",
   "metadata": {},
   "source": [
    "## Predictions"
   ]
  },
  {
   "cell_type": "code",
   "execution_count": null,
   "id": "11de90d0",
   "metadata": {},
   "outputs": [],
   "source": [
    "X_encoded = encoded_data[\"oos\"].copy()"
   ]
  },
  {
   "cell_type": "code",
   "execution_count": null,
   "id": "7052b393",
   "metadata": {},
   "outputs": [],
   "source": [
    "y_pred = estimator.predict(\n",
    "    X_encoded.drop(id_drop, axis = 1)\n",
    ")"
   ]
  },
  {
   "cell_type": "markdown",
   "id": "a6523705",
   "metadata": {},
   "source": [
    "## Metrics"
   ]
  },
  {
   "cell_type": "code",
   "execution_count": null,
   "id": "922abaeb",
   "metadata": {},
   "outputs": [],
   "source": [
    "args_preds = [\n",
    "   y[target[0]].values,\n",
    "    y_pred\n",
    "]\n",
    "type_of = \"oos\"\n",
    "basics_metrics = {\n",
    "        \"r2\": r2_score,\n",
    "        \"rmse\": mean_squared_error,\n",
    "        \"mape\": mean_absolute_percentage_error,\n",
    "        \"mse\": mean_squared_error,\n",
    "        \"mae\": mean_absolute_error,\n",
    "        \"median_ae\": median_absolute_error\n",
    "}\n",
    "metrics_pred = {\n",
    "        \"correlation\": np.corrcoef(\n",
    "            *args_preds\n",
    "        )[0,1],\n",
    "        f\"size_{type_of}\": len(args_preds[0])\n",
    "}\n",
    "\n",
    "for name, content in basics_metrics.items():\n",
    "    if name != \"rmse\":\n",
    "        #metrics_train[name] = content(*args_train)\n",
    "        metrics_pred[name] = content(*args_preds)\n",
    "    else:\n",
    "        #metrics_train[name] = np.sqrt(content(*args_train))\n",
    "        metrics_pred[name] = np.sqrt(content(*args_preds))\n",
    "\n",
    "metrics_results = {}\n",
    "for me in [[type_of, metrics_pred]]:\n",
    "    print(f'-------- [ {me[0]} ] ----------')\n",
    "    for metric, result in me[1].items():\n",
    "        print(f\"{metric} : {round(result, 4)}\")\n",
    "    metrics_results[me[0]] = me[1]"
   ]
  },
  {
   "cell_type": "code",
   "execution_count": null,
   "id": "caaf7c58",
   "metadata": {},
   "outputs": [],
   "source": [
    "data_values = {}\n",
    "for content_all in zip(\n",
    "    ['oos'],\n",
    "    [X_encoded[id_drop[0]].values],\n",
    "    [args_preds]\n",
    "):\n",
    "    name, id_col, arg = content_all\n",
    "    content = pd.DataFrame(arg, \n",
    "                              index = [\"y_true\", \"y_pred\"]).T\n",
    "    content.insert(0, id_drop[0], id_col)\n",
    "    content = content.sort_values(\"y_true\", ascending = False)\n",
    "    content[\"rank_true\"] = (\n",
    "        content\n",
    "        .sort_values(\"y_true\", ascending = False)\n",
    "        .reset_index(drop=True)\n",
    "        .index\n",
    "    )\n",
    "    content = content.sort_values(\"y_pred\", ascending = False)\n",
    "    content[\"rank_pred\"] = (\n",
    "        content\n",
    "        .sort_values(\"y_pred\", ascending = False)\n",
    "        .reset_index(drop=True)\n",
    "        .index\n",
    "    )\n",
    "    content = content.sample(frac=1).reset_index(drop = True)\n",
    "    data_values[name] = content"
   ]
  },
  {
   "cell_type": "markdown",
   "id": "7f290900",
   "metadata": {},
   "source": [
    "## Plots"
   ]
  },
  {
   "cell_type": "code",
   "execution_count": null,
   "id": "0cf13bab",
   "metadata": {},
   "outputs": [],
   "source": [
    "explainer = shap.Explainer(estimator)\n",
    "shap_values = explainer.shap_values(X_encoded.drop(id_drop, axis = 1))\n",
    "shap.summary_plot(shap_values,\n",
    "                  X_encoded.drop(id_drop, axis = 1),\n",
    "                  plot_type=\"violin\",\n",
    "                  color_bar=False, show=False)\n",
    "plt.colorbar(label='SHAP Value')\n",
    "\n",
    "plt.show()"
   ]
  },
  {
   "cell_type": "code",
   "execution_count": null,
   "id": "e09ba569",
   "metadata": {},
   "outputs": [],
   "source": [
    "fig, axes = plt.subplots(1, len(data_values.keys()), figsize=(20, 8))\n",
    "if len(data_values.keys())==1:\n",
    "    axes = [axes]\n",
    "for (idx, (name, content)), metric_content in zip(enumerate(data_values.items()), metrics_results.values()):\n",
    "    ax = axes[idx]\n",
    "    ax.plot(content[\"y_true\"], content[\"y_true\"], 'r', linewidth=2, linestyle='dashed')\n",
    "    ax.plot(content[\"y_true\"], content[\"y_pred\"], '*')\n",
    "    ax.set_title(name.title() + r\" | $R^{2}$ = \" + \"{:.5}\".format(metric_content[\"r2\"]))\n",
    "    ax.set_xlabel(f\"True {target[0]}\")\n",
    "    ax.set_ylabel(f\"Predict {target[0]}\")\n",
    "    ax.grid()\n",
    "\n",
    "plt.show()"
   ]
  },
  {
   "cell_type": "code",
   "execution_count": null,
   "id": "774b1ee3",
   "metadata": {},
   "outputs": [],
   "source": [
    "fig, axes = plt.subplots(1, len(data_values.keys()), figsize =  (18,8))\n",
    "if len(data_values.keys())==1:\n",
    "    axes = [axes]\n",
    "for (name, content), ax in zip(data_values.items(), axes):\n",
    "    ax.plot(data_values[name]['y_true'].values, label = \"true\")\n",
    "    ax.plot(data_values[name]['y_pred'].values, label = \"pred\")\n",
    "    ax.set_title((\n",
    "        name\n",
    "        + f\" | $n$ = {len(data_values[name]['y_true'].values)}\"\n",
    "        + r\" | $\\rho_{values}$ = \"\n",
    "        + \"{:.5}\".format(\n",
    "            data_values[\"oos\"].filter(regex = r\"y_*\").corr().values[0, 1]\n",
    "            )\n",
    "        + r\" | $\\rho_{rank}$ = \"\n",
    "        + \"{:.5}\".format(\n",
    "            data_values[\"oos\"].filter(regex = r\"rank*\").corr().values[0,1]\n",
    "            )\n",
    "        )\n",
    "    ) \n",
    "    ax.grid()\n",
    "plt.legend()"
   ]
  },
  {
   "cell_type": "code",
   "execution_count": null,
   "id": "df320aa1",
   "metadata": {},
   "outputs": [],
   "source": [
    "data_values['oos']"
   ]
  }
 ],
 "metadata": {
  "kernelspec": {
   "display_name": "Python 3 (ipykernel)",
   "language": "python",
   "name": "python3"
  },
  "language_info": {
   "codemirror_mode": {
    "name": "ipython",
    "version": 3
   },
   "file_extension": ".py",
   "mimetype": "text/x-python",
   "name": "python",
   "nbconvert_exporter": "python",
   "pygments_lexer": "ipython3",
   "version": "3.10.6"
  }
 },
 "nbformat": 4,
 "nbformat_minor": 5
}
