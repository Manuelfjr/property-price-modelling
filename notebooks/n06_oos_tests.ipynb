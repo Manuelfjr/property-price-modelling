{
 "cells": [
  {
   "cell_type": "markdown",
   "id": "cf8abfdc",
   "metadata": {},
   "source": [
    "## Imports"
   ]
  },
  {
   "cell_type": "code",
   "execution_count": null,
   "id": "1c07597f",
   "metadata": {},
   "outputs": [],
   "source": [
    "import sys\n",
    "from pathlib import Path\n",
    "PROJECT_DIR = Path.cwd().parent\n",
    "sys.path.append(str(PROJECT_DIR))\n",
    "\n",
    "# basics\n",
    "import numpy as np\n",
    "import pandas as pd\n",
    "import joblib\n",
    "import shap\n",
    "\n",
    "# viz\n",
    "import matplotlib.pyplot as plt\n",
    "import seaborn as sns\n",
    "\n",
    "# utils\n",
    "import os\n",
    "from tqdm import tqdm\n",
    "from ppm.nodes.metrics_calculator import (\n",
    "    metrics_calculate,\n",
    "    show_results\n",
    ")\n",
    "from ppm.nodes.process_outputs import (\n",
    "    ranking_output\n",
    ")\n",
    "from ppm.nodes.feature_explainer import (\n",
    "    tree_explainer,\n",
    "    shap_explainer\n",
    ")\n",
    "from ppm.nodes.plots import (\n",
    "    plot_true_vs_pred_multiple,\n",
    "    plot_true_vs_pred\n",
    ")"
   ]
  },
  {
   "cell_type": "markdown",
   "id": "db8c482e",
   "metadata": {},
   "source": [
    "## Parameters"
   ]
  },
  {
   "cell_type": "code",
   "execution_count": null,
   "id": "39d5f6c4",
   "metadata": {},
   "outputs": [],
   "source": [
    "n_samples_oos = 5"
   ]
  },
  {
   "cell_type": "code",
   "execution_count": null,
   "id": "cab0916b",
   "metadata": {},
   "outputs": [],
   "source": [
    "path_root_oos = os.path.join(\n",
    "    '..', 'oos_n2', # data or oos\n",
    ")\n",
    "path_root_data = os.path.join(\n",
    "    \"..\",\"data\"\n",
    ")\n",
    "path_primary = os.path.join(\n",
    "    path_root_oos, \"03_primary\"\n",
    ")\n",
    "path_model = os.path.join(\n",
    "    path_root_data, \"04_model\"\n",
    ")\n",
    "path_encoders = os.path.join(\n",
    "    path_model, \"encoders\"\n",
    ")\n",
    "path_model_final = os.path.join(\n",
    "    path_model, \"model\"\n",
    ")\n",
    "\n",
    "\n",
    "file_path_input_data = os.path.join(\n",
    "    path_primary, \"data_input.csv\"\n",
    ")\n",
    "file_path_encoder_order = os.path.join(\n",
    "    path_encoders, \"encoders_orders.csv\"\n",
    ")"
   ]
  },
  {
   "cell_type": "markdown",
   "id": "bd49ad52",
   "metadata": {},
   "source": [
    "## Read"
   ]
  },
  {
   "cell_type": "code",
   "execution_count": null,
   "id": "bff106ef",
   "metadata": {},
   "outputs": [],
   "source": [
    "encoders_order = pd.read_csv(file_path_encoder_order)"
   ]
  },
  {
   "cell_type": "code",
   "execution_count": null,
   "id": "f84ca6ac",
   "metadata": {},
   "outputs": [],
   "source": [
    "# read model pycaret\n",
    "model = {}\n",
    "for model_name in os.listdir(path_model_final):\n",
    "    model[model_name.split(\".\")[0]] = joblib.load(\n",
    "        os.path.join(\n",
    "            path_model_final,\n",
    "            model_name\n",
    "        )\n",
    "    )\n",
    "estimator = model[\"actual_estimator\"]"
   ]
  },
  {
   "cell_type": "code",
   "execution_count": null,
   "id": "f9d23658",
   "metadata": {},
   "outputs": [],
   "source": [
    "# read encoders\n",
    "encoders = {}\n",
    "for encoder_content in encoders_order.values:\n",
    "    encoder_name, encoder_url = encoder_content\n",
    "    encoders[encoder_name.split(\".\")[0]] = joblib.load(\n",
    "        encoder_url\n",
    "    )"
   ]
  },
  {
   "cell_type": "code",
   "execution_count": null,
   "id": "50bdfb15",
   "metadata": {},
   "outputs": [],
   "source": [
    "data_input = pd.read_csv(\n",
    "    file_path_input_data, # file_path_input_data, file_path_not_outliers\n",
    "    index_col = 0\n",
    ").head(n_samples_oos)"
   ]
  },
  {
   "cell_type": "markdown",
   "id": "abf14575",
   "metadata": {},
   "source": [
    "## Filter columns"
   ]
  },
  {
   "cell_type": "code",
   "execution_count": null,
   "id": "93ba328c",
   "metadata": {},
   "outputs": [],
   "source": [
    "target = [\n",
    "    \"price\"\n",
    "]\n",
    "cd_setor_drop = [\n",
    "    \"cd_setor\",\n",
    "]\n",
    "id_drop = [\n",
    "    \"ID\"\n",
    "]\n",
    "cols_drop = cd_setor_drop + target"
   ]
  },
  {
   "cell_type": "code",
   "execution_count": null,
   "id": "5eaabaae",
   "metadata": {},
   "outputs": [],
   "source": [
    "X = data_input.drop(cols_drop, axis = 1)\n",
    "\n",
    "y = data_input[id_drop + target]"
   ]
  },
  {
   "cell_type": "markdown",
   "id": "3c96a602",
   "metadata": {},
   "source": [
    "## Encoder process"
   ]
  },
  {
   "cell_type": "code",
   "execution_count": null,
   "id": "2a863e76",
   "metadata": {
    "scrolled": true
   },
   "outputs": [],
   "source": [
    "encoded_data = {\n",
    "    \"oos\": X.copy()\n",
    "}\n",
    "for encoder_name, encoder_content in encoders.items():\n",
    "    print(\"--- encoder: [{}]\".format(encoder_name))\n",
    "    for type_name, data_to_encoder in encoded_data.items():\n",
    "        id_row = data_to_encoder[id_drop[0]].values\n",
    "        data_to_encoder.drop(id_drop[0], axis = 1, inplace = True)\n",
    "        encoded_data[type_name] = encoder_content.transform(data_to_encoder)\n",
    "        encoded_data[type_name].insert(0, id_drop[0], id_row)"
   ]
  },
  {
   "cell_type": "markdown",
   "id": "12b2178b",
   "metadata": {},
   "source": [
    "## Predictions"
   ]
  },
  {
   "cell_type": "code",
   "execution_count": null,
   "id": "11de90d0",
   "metadata": {},
   "outputs": [],
   "source": [
    "X_encoded = encoded_data[\"oos\"].copy()"
   ]
  },
  {
   "cell_type": "code",
   "execution_count": null,
   "id": "7052b393",
   "metadata": {},
   "outputs": [],
   "source": [
    "y_pred = estimator.predict(\n",
    "    X_encoded.drop(id_drop, axis = 1)\n",
    ")"
   ]
  },
  {
   "cell_type": "markdown",
   "id": "a6523705",
   "metadata": {},
   "source": [
    "## Metrics"
   ]
  },
  {
   "cell_type": "code",
   "execution_count": null,
   "id": "7aa2461c",
   "metadata": {},
   "outputs": [],
   "source": [
    "args_preds = [\n",
    "   y[target[0]].values,\n",
    "    y_pred\n",
    "]\n",
    "\n",
    "metrics_pred = metrics_calculate(args_preds)\n",
    "\n",
    "metrics_test = show_results(metrics_pred, \"test\")"
   ]
  },
  {
   "cell_type": "code",
   "execution_count": null,
   "id": "9c064256",
   "metadata": {},
   "outputs": [],
   "source": [
    "data_values = {}\n",
    "data_values[\"oos\"] = ranking_output(args_preds)"
   ]
  },
  {
   "cell_type": "markdown",
   "id": "7f290900",
   "metadata": {},
   "source": [
    "## Plots"
   ]
  },
  {
   "cell_type": "code",
   "execution_count": null,
   "id": "97eeb554",
   "metadata": {
    "scrolled": true
   },
   "outputs": [],
   "source": [
    "fig_shap, explainer = shap_explainer(\n",
    "    [estimator],\n",
    "    X_encoded.drop(id_drop, axis = 1)\n",
    ")"
   ]
  },
  {
   "cell_type": "code",
   "execution_count": null,
   "id": "73b28fc2",
   "metadata": {},
   "outputs": [],
   "source": [
    "explainer.shap_values(X_encoded.drop(id_drop, axis = 1))"
   ]
  },
  {
   "cell_type": "code",
   "execution_count": null,
   "id": "600d0a97",
   "metadata": {},
   "outputs": [],
   "source": [
    "fig_oos_true_pred = plot_true_vs_pred_multiple(\n",
    "    data_values,\n",
    "    metrics_test,\n",
    "    target,\n",
    "    linewidth = 2\n",
    "    #linestyle='dashed'\n",
    ")"
   ]
  },
  {
   "cell_type": "code",
   "execution_count": null,
   "id": "d3147bd1",
   "metadata": {},
   "outputs": [],
   "source": [
    "fig_true_vs_pred = plot_true_vs_pred(\n",
    "    data_values,\n",
    "    None,\n",
    "    None,\n",
    "    figsize = (18, 8),\n",
    "    linestyle = 'dashed'\n",
    ")"
   ]
  }
 ],
 "metadata": {
  "kernelspec": {
   "display_name": "Python 3 (ipykernel)",
   "language": "python",
   "name": "python3"
  },
  "language_info": {
   "codemirror_mode": {
    "name": "ipython",
    "version": 3
   },
   "file_extension": ".py",
   "mimetype": "text/x-python",
   "name": "python",
   "nbconvert_exporter": "python",
   "pygments_lexer": "ipython3",
   "version": "3.10.6"
  }
 },
 "nbformat": 4,
 "nbformat_minor": 5
}
