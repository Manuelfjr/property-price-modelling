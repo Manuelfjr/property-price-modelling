{
 "cells": [
  {
   "cell_type": "markdown",
   "id": "370293e7",
   "metadata": {},
   "source": [
    "## Imports"
   ]
  },
  {
   "cell_type": "code",
   "execution_count": null,
   "id": "93cd757a",
   "metadata": {},
   "outputs": [],
   "source": [
    "import sys\n",
    "from pathlib import Path\n",
    "PROJECT_DIR = Path.cwd().parent\n",
    "sys.path.append(str(PROJECT_DIR))\n",
    "\n",
    "# basics\n",
    "import pandas as pd\n",
    "import json\n",
    "import joblib\n",
    "\n",
    "# feature_importance\n",
    "import shap\n",
    "\n",
    "# models\n",
    "from pycaret.regression import *\n",
    "from sklearn.ensemble import RandomForestRegressor\n",
    "from sklearn.model_selection import (\n",
    "    train_test_split\n",
    ")\n",
    "\n",
    "# utils\n",
    "import os\n",
    "from ppm.nodes.metrics_calculator import (\n",
    "    metrics_calculate,\n",
    "    show_results\n",
    ")\n",
    "from ppm.nodes.cross_validation import (\n",
    "    cross_validation\n",
    ")\n",
    "from ppm.nodes.process_outputs import (\n",
    "    ranking_output\n",
    ")\n",
    "from ppm.nodes.feature_explainer import (\n",
    "    tree_explainer,\n",
    "    shap_explainer\n",
    ")\n",
    "from ppm.nodes.plots import (\n",
    "    plot_feature_importance,\n",
    "    plot_predictions,\n",
    "    plot_true_vs_pred,\n",
    "    plot_true_vs_pred_multiple\n",
    ")\n",
    "from ppm.nodes.outliers_detection import (\n",
    "    detect_outliers\n",
    ")"
   ]
  },
  {
   "cell_type": "markdown",
   "id": "bfaae5ba",
   "metadata": {},
   "source": [
    "## Parameters"
   ]
  },
  {
   "cell_type": "code",
   "execution_count": null,
   "id": "b98613d5",
   "metadata": {},
   "outputs": [],
   "source": [
    "path_root = os.path.join(\"..\",\"oos\")\n",
    "path_root_data = os.path.join(\"..\", \"data\")\n",
    "path_primary = os.path.join(\n",
    "    path_root, \"03_primary\"\n",
    ")\n",
    "path_primary_data = os.path.join(\n",
    "    path_root_data, \"03_primary\"\n",
    ")\n",
    "path_model = os.path.join(\n",
    "    path_root_data, \"04_model\"\n",
    ")\n",
    "path_encoders = os.path.join(\n",
    "    path_model, \"encoders\"\n",
    ")\n",
    "path_model_final = os.path.join(\n",
    "    path_model, \"model\"\n",
    ")\n",
    "\n",
    "file_path_metrics_features_test = os.path.join(\n",
    "    path_primary_data, \"features_test_metrics.json\"\n",
    ")\n",
    "file_path_metrics_features_selected = os.path.join(\n",
    "    path_primary_data, \"features_selected.json\"\n",
    ")\n",
    "file_path_best_params = os.path.join(\n",
    "    path_model, \"best_params.json\"\n",
    ")\n",
    "file_path_encoder_order = os.path.join(\n",
    "    path_encoders, \"encoders_orders.csv\"\n",
    ")\n",
    "file_path_data_input = os.path.join(\n",
    "    path_primary, \"data_input.csv\" \n",
    ")\n",
    "file_path_not_outliers = os.path.join(\n",
    "    path_primary_data, \"data_not_outliers.csv\"\n",
    ")"
   ]
  },
  {
   "cell_type": "code",
   "execution_count": null,
   "id": "ae7f3e26",
   "metadata": {},
   "outputs": [],
   "source": [
    "n_samples_oos = -1\n",
    "price_cutoff = 2*10**(100)# (6)"
   ]
  },
  {
   "cell_type": "markdown",
   "id": "531b075c",
   "metadata": {},
   "source": [
    "## Read content"
   ]
  },
  {
   "cell_type": "code",
   "execution_count": null,
   "id": "42cac7b5",
   "metadata": {},
   "outputs": [],
   "source": [
    "data_input = pd.read_csv(\n",
    "    file_path_data_input, # file_path_data_input, file_path_not_outliers\n",
    "    index_col = 0\n",
    ")"
   ]
  },
  {
   "cell_type": "code",
   "execution_count": null,
   "id": "cb4dcca7",
   "metadata": {
    "scrolled": true
   },
   "outputs": [],
   "source": [
    "encoders_order = pd.read_csv(\n",
    "    file_path_encoder_order\n",
    ")"
   ]
  },
  {
   "cell_type": "code",
   "execution_count": null,
   "id": "ff746ff2",
   "metadata": {},
   "outputs": [],
   "source": [
    "# read encoders\n",
    "encoders = {}\n",
    "for encoder_content in encoders_order.values:\n",
    "    encoder_name, encoder_url = encoder_content\n",
    "    encoders[encoder_name.split(\".\")[0]] = joblib.load(\n",
    "        encoder_url\n",
    "    )"
   ]
  },
  {
   "cell_type": "code",
   "execution_count": null,
   "id": "506731ca",
   "metadata": {},
   "outputs": [],
   "source": [
    "# read model pycaret\n",
    "model = {}\n",
    "for model_name in os.listdir(path_model_final):\n",
    "    model[model_name.split(\".\")[0]] = joblib.load(\n",
    "        os.path.join(\n",
    "            path_model_final,\n",
    "            model_name\n",
    "        )\n",
    "    )"
   ]
  },
  {
   "cell_type": "code",
   "execution_count": null,
   "id": "91de9b50",
   "metadata": {},
   "outputs": [],
   "source": [
    "if os.path.exists(file_path_metrics_features_selected):\n",
    "    with open(file_path_metrics_features_selected, 'r') as json_file:\n",
    "        features_selected = json.load(json_file)\n",
    "    features_selected = features_selected[\"selected_features\"]"
   ]
  },
  {
   "cell_type": "code",
   "execution_count": null,
   "id": "d766f4c7",
   "metadata": {},
   "outputs": [],
   "source": [
    "if os.path.exists(file_path_best_params):\n",
    "    with open(file_path_best_params, 'r') as json_file:\n",
    "        best_params = json.load(json_file)\n",
    "    best_params = best_params[\"params\"]\n",
    "else:\n",
    "    best_params = {\n",
    "        \"random_state\": 42\n",
    "    }"
   ]
  },
  {
   "cell_type": "code",
   "execution_count": null,
   "id": "6bee26e4",
   "metadata": {},
   "outputs": [],
   "source": [
    "estimator = model[\"actual_estimator\"]"
   ]
  },
  {
   "cell_type": "code",
   "execution_count": null,
   "id": "fc8e636c",
   "metadata": {},
   "outputs": [],
   "source": [
    "target = [\n",
    "    \"price\"\n",
    "]\n",
    "cd_setor_drop = [\n",
    "    \"cd_setor\",\n",
    "]\n",
    "id_drop = [\n",
    "    \"ID\"\n",
    "]"
   ]
  },
  {
   "cell_type": "code",
   "execution_count": null,
   "id": "400753de",
   "metadata": {},
   "outputs": [],
   "source": [
    "data_input = data_input[data_input[target].values < price_cutoff].reset_index(drop = True)\n",
    "data_input = data_input.head(n_samples_oos).copy()"
   ]
  },
  {
   "cell_type": "code",
   "execution_count": null,
   "id": "d1aab152",
   "metadata": {},
   "outputs": [],
   "source": [
    "data_input = data_input[id_drop + cd_setor_drop + target + features_selected].copy()"
   ]
  },
  {
   "cell_type": "code",
   "execution_count": null,
   "id": "d19b644e",
   "metadata": {},
   "outputs": [],
   "source": [
    "X = data_input.drop(\n",
    "    cd_setor_drop + target,\n",
    "    axis = 1\n",
    ").copy()\n",
    "y = data_input[id_drop + target].copy()"
   ]
  },
  {
   "cell_type": "markdown",
   "id": "16aedaa4",
   "metadata": {},
   "source": [
    "## Encoders process"
   ]
  },
  {
   "cell_type": "code",
   "execution_count": null,
   "id": "17a50654",
   "metadata": {},
   "outputs": [],
   "source": [
    "encoded_data = {\n",
    "    \"oos\": X.copy()\n",
    "}\n",
    "for encoder_name, encoder_content in encoders.items():\n",
    "    print(\"--- encoder: [{}]\".format(encoder_name))\n",
    "    for type_name, data_to_encoder in encoded_data.items():\n",
    "        id_row = data_to_encoder[id_drop[0]].values\n",
    "        data_to_encoder.drop(id_drop[0], axis = 1, inplace = True)\n",
    "        encoded_data[type_name] = encoder_content.transform(data_to_encoder)\n",
    "        encoded_data[type_name].insert(0, id_drop[0], id_row)"
   ]
  },
  {
   "cell_type": "code",
   "execution_count": null,
   "id": "9e5ee0c6",
   "metadata": {},
   "outputs": [],
   "source": [
    "X_encoded = encoded_data['oos'].drop(id_drop, axis = 1).copy()"
   ]
  },
  {
   "cell_type": "markdown",
   "id": "cb0b586e",
   "metadata": {},
   "source": [
    "## Metrics"
   ]
  },
  {
   "cell_type": "code",
   "execution_count": null,
   "id": "7140e2a1",
   "metadata": {},
   "outputs": [],
   "source": [
    "y_oos_preds = estimator.predict(X_encoded)"
   ]
  },
  {
   "cell_type": "code",
   "execution_count": null,
   "id": "d185aa89",
   "metadata": {},
   "outputs": [],
   "source": [
    "args_oos = [\n",
    "    y[target[0]].values,\n",
    "    y_oos_preds\n",
    "]\n",
    "\n",
    "metrics_oos = metrics_calculate(args_oos)\n",
    "\n",
    "metrics_oos = show_results(metrics_oos, \"oos\")\n",
    "metrics_results = metrics_oos"
   ]
  },
  {
   "cell_type": "code",
   "execution_count": null,
   "id": "482182c7",
   "metadata": {},
   "outputs": [],
   "source": [
    "data_values = {}\n",
    "for name, args in zip(['oos'], [args_oos]):\n",
    "    content = ranking_output(args)\n",
    "    data_values[name] = content"
   ]
  },
  {
   "cell_type": "code",
   "execution_count": null,
   "id": "3718b213",
   "metadata": {},
   "outputs": [],
   "source": [
    "data_values['oos'].filter(regex = r\"y_*\").corr()"
   ]
  },
  {
   "cell_type": "code",
   "execution_count": null,
   "id": "1f02acd6",
   "metadata": {},
   "outputs": [],
   "source": [
    "data_values['oos'].filter(regex = r\"rank_*\").corr()"
   ]
  },
  {
   "cell_type": "markdown",
   "id": "5740ae7e",
   "metadata": {},
   "source": [
    "## Feature importances"
   ]
  },
  {
   "cell_type": "code",
   "execution_count": null,
   "id": "f8eefa5b",
   "metadata": {},
   "outputs": [],
   "source": [
    "feature_importances, features_selected = tree_explainer(\n",
    "    model = [estimator],\n",
    "    features_names = list(X_encoded.columns),\n",
    "    n_features = 10\n",
    ")"
   ]
  },
  {
   "cell_type": "code",
   "execution_count": null,
   "id": "a7972029",
   "metadata": {
    "scrolled": true
   },
   "outputs": [],
   "source": [
    "fig_shap, explainer = shap_explainer(\n",
    "    [estimator],\n",
    "    X_encoded\n",
    ")"
   ]
  },
  {
   "cell_type": "code",
   "execution_count": null,
   "id": "26b8bba8",
   "metadata": {},
   "outputs": [],
   "source": [
    "fig_tree_explainer = plot_feature_importance(\n",
    "    feature_importances, \n",
    "    10\n",
    ")"
   ]
  },
  {
   "cell_type": "markdown",
   "id": "4db0a2be",
   "metadata": {},
   "source": [
    "## Plots"
   ]
  },
  {
   "cell_type": "code",
   "execution_count": null,
   "id": "d173e495",
   "metadata": {},
   "outputs": [],
   "source": [
    "fig_oos_true_pred = plot_true_vs_pred_multiple(\n",
    "    data_values,\n",
    "    metrics_results,\n",
    "    target,\n",
    "    linewidth = 2\n",
    "    #linestyle='dashed'\n",
    ")"
   ]
  },
  {
   "cell_type": "code",
   "execution_count": null,
   "id": "479d47fc",
   "metadata": {},
   "outputs": [],
   "source": [
    "fig_true_vs_pred = plot_true_vs_pred(\n",
    "    data_values,\n",
    "    None,\n",
    "    None,\n",
    "    figsize = (18, 6),\n",
    "    linestyle = 'dashed'\n",
    ")"
   ]
  }
 ],
 "metadata": {
  "kernelspec": {
   "display_name": "Python 3 (ipykernel)",
   "language": "python",
   "name": "python3"
  },
  "language_info": {
   "codemirror_mode": {
    "name": "ipython",
    "version": 3
   },
   "file_extension": ".py",
   "mimetype": "text/x-python",
   "name": "python",
   "nbconvert_exporter": "python",
   "pygments_lexer": "ipython3",
   "version": "3.10.6"
  }
 },
 "nbformat": 4,
 "nbformat_minor": 5
}
